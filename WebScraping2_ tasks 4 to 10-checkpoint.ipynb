{
 "cells": [
  {
   "cell_type": "code",
   "execution_count": 14,
   "metadata": {},
   "outputs": [],
   "source": [
    "#importing reuired libraries\n",
    "\n",
    "import pandas as pd\n",
    "import selenium\n",
    "from selenium import webdriver"
   ]
  },
  {
   "cell_type": "markdown",
   "metadata": {},
   "source": [
    "# Task 4"
   ]
  },
  {
   "cell_type": "code",
   "execution_count": 524,
   "metadata": {},
   "outputs": [],
   "source": [
    "#creating driver object\n",
    "\n",
    "driver=webdriver.Chrome(r\"C:/chromedriver.exe\")\n",
    "driver.get(\"https://www.glassdoor.co.in/Job/noida-data-scientist-jobs-SRCH_IL.0,5_IC4477468_KO6,20.htm\")"
   ]
  },
  {
   "cell_type": "code",
   "execution_count": 527,
   "metadata": {},
   "outputs": [],
   "source": [
    "Companies=driver.find_elements_by_xpath(\"//a[@class=' css-l2wjgv e1n63ojh0 jobLink']\")"
   ]
  },
  {
   "cell_type": "code",
   "execution_count": 528,
   "metadata": {},
   "outputs": [
    {
     "data": {
      "text/plain": [
       "30"
      ]
     },
     "execution_count": 528,
     "metadata": {},
     "output_type": "execute_result"
    }
   ],
   "source": [
    "len(Companies)"
   ]
  },
  {
   "cell_type": "code",
   "execution_count": 531,
   "metadata": {},
   "outputs": [],
   "source": [
    "\n",
    "Ratings=driver.find_elements_by_xpath(\"//span[@class='css-19pjha7 e1cjmv6j1']\")"
   ]
  },
  {
   "cell_type": "code",
   "execution_count": 532,
   "metadata": {},
   "outputs": [
    {
     "data": {
      "text/plain": [
       "19"
      ]
     },
     "execution_count": 532,
     "metadata": {},
     "output_type": "execute_result"
    }
   ],
   "source": [
    "len(Ratings)"
   ]
  },
  {
   "cell_type": "code",
   "execution_count": 533,
   "metadata": {},
   "outputs": [
    {
     "data": {
      "text/plain": [
       "'3.8'"
      ]
     },
     "execution_count": 533,
     "metadata": {},
     "output_type": "execute_result"
    }
   ],
   "source": [
    "Ratings[0].text"
   ]
  },
  {
   "cell_type": "code",
   "execution_count": 534,
   "metadata": {},
   "outputs": [],
   "source": [
    "\n",
    "DaysPosted=driver.find_elements_by_xpath(\"//div[@data-test='job-age']\")"
   ]
  },
  {
   "cell_type": "code",
   "execution_count": 535,
   "metadata": {},
   "outputs": [
    {
     "data": {
      "text/plain": [
       "30"
      ]
     },
     "execution_count": 535,
     "metadata": {},
     "output_type": "execute_result"
    }
   ],
   "source": [
    "len(DaysPosted)"
   ]
  },
  {
   "cell_type": "code",
   "execution_count": 538,
   "metadata": {},
   "outputs": [],
   "source": [
    "for i in range(10):\n",
    "    Companies[i]=Companies[i].text\n",
    "    Ratings[i]=Ratings[i].text\n",
    "    DaysPosted[i]=DaysPosted[i].text"
   ]
  },
  {
   "cell_type": "code",
   "execution_count": 539,
   "metadata": {},
   "outputs": [],
   "source": [
    "DsNoid_df=pd.DataFrame({'Company':Companies[0:10],\n",
    "                        'Rating':Ratings[0:10],\n",
    "                        'Days Ago Posted':DaysPosted[0:10]\n",
    "    \n",
    "})"
   ]
  },
  {
   "cell_type": "code",
   "execution_count": 540,
   "metadata": {},
   "outputs": [
    {
     "data": {
      "text/html": [
       "<div>\n",
       "<style scoped>\n",
       "    .dataframe tbody tr th:only-of-type {\n",
       "        vertical-align: middle;\n",
       "    }\n",
       "\n",
       "    .dataframe tbody tr th {\n",
       "        vertical-align: top;\n",
       "    }\n",
       "\n",
       "    .dataframe thead th {\n",
       "        text-align: right;\n",
       "    }\n",
       "</style>\n",
       "<table border=\"1\" class=\"dataframe\">\n",
       "  <thead>\n",
       "    <tr style=\"text-align: right;\">\n",
       "      <th></th>\n",
       "      <th>Company</th>\n",
       "      <th>Rating</th>\n",
       "      <th>Days Ago Posted</th>\n",
       "    </tr>\n",
       "  </thead>\n",
       "  <tbody>\n",
       "    <tr>\n",
       "      <th>0</th>\n",
       "      <td>Biz2Credit Inc</td>\n",
       "      <td>3.8</td>\n",
       "      <td>30d+</td>\n",
       "    </tr>\n",
       "    <tr>\n",
       "      <th>1</th>\n",
       "      <td>Adobe</td>\n",
       "      <td>4.4</td>\n",
       "      <td>3d</td>\n",
       "    </tr>\n",
       "    <tr>\n",
       "      <th>2</th>\n",
       "      <td>Unyscape Infocom Pvt. Ltd</td>\n",
       "      <td>4.1</td>\n",
       "      <td>29d</td>\n",
       "    </tr>\n",
       "    <tr>\n",
       "      <th>3</th>\n",
       "      <td>Innovacer</td>\n",
       "      <td>3.8</td>\n",
       "      <td>14d</td>\n",
       "    </tr>\n",
       "    <tr>\n",
       "      <th>4</th>\n",
       "      <td>Techlive</td>\n",
       "      <td>5.0</td>\n",
       "      <td>30d+</td>\n",
       "    </tr>\n",
       "    <tr>\n",
       "      <th>5</th>\n",
       "      <td>Salasar New Age Technologies</td>\n",
       "      <td>3.5</td>\n",
       "      <td>30d+</td>\n",
       "    </tr>\n",
       "    <tr>\n",
       "      <th>6</th>\n",
       "      <td>Innovaccer Analytics Private Limited</td>\n",
       "      <td>3.5</td>\n",
       "      <td>13d</td>\n",
       "    </tr>\n",
       "    <tr>\n",
       "      <th>7</th>\n",
       "      <td>CRMNEXT</td>\n",
       "      <td>4.4</td>\n",
       "      <td>10d</td>\n",
       "    </tr>\n",
       "    <tr>\n",
       "      <th>8</th>\n",
       "      <td>SearchUrCollege</td>\n",
       "      <td>5.0</td>\n",
       "      <td>30d+</td>\n",
       "    </tr>\n",
       "    <tr>\n",
       "      <th>9</th>\n",
       "      <td>Salasar New Age Technologies</td>\n",
       "      <td>3.1</td>\n",
       "      <td>30d+</td>\n",
       "    </tr>\n",
       "  </tbody>\n",
       "</table>\n",
       "</div>"
      ],
      "text/plain": [
       "                                Company Rating Days Ago Posted\n",
       "0                        Biz2Credit Inc    3.8            30d+\n",
       "1                                 Adobe    4.4              3d\n",
       "2             Unyscape Infocom Pvt. Ltd    4.1             29d\n",
       "3                             Innovacer    3.8             14d\n",
       "4                              Techlive    5.0            30d+\n",
       "5          Salasar New Age Technologies    3.5            30d+\n",
       "6  Innovaccer Analytics Private Limited    3.5             13d\n",
       "7                               CRMNEXT    4.4             10d\n",
       "8                       SearchUrCollege    5.0            30d+\n",
       "9          Salasar New Age Technologies    3.1            30d+"
      ]
     },
     "execution_count": 540,
     "metadata": {},
     "output_type": "execute_result"
    }
   ],
   "source": [
    "#final dataframe\n",
    "DsNoid_df"
   ]
  },
  {
   "cell_type": "code",
   "execution_count": 541,
   "metadata": {},
   "outputs": [],
   "source": [
    "driver.close()"
   ]
  },
  {
   "cell_type": "markdown",
   "metadata": {},
   "source": [
    "# TASK 5"
   ]
  },
  {
   "cell_type": "code",
   "execution_count": 81,
   "metadata": {},
   "outputs": [],
   "source": [
    " #working\n",
    "        #creating driver object\n",
    "\n",
    "driver=webdriver.Chrome(r\"C:/chromedriver.exe\")\n",
    "driver.get(\"https://www.glassdoor.co.in/Salaries/index.htm\")"
   ]
  },
  {
   "cell_type": "code",
   "execution_count": 82,
   "metadata": {},
   "outputs": [],
   "source": [
    "#Searching for data scientist profile\n",
    "JobProfile=driver.find_element_by_xpath(\"//input[@id='KeywordSearch']\")\n",
    "JobProfile.send_keys(\"Data Scientist\")"
   ]
  },
  {
   "cell_type": "code",
   "execution_count": 83,
   "metadata": {},
   "outputs": [],
   "source": [
    "#Searching for Noida Location.\n",
    "JobProfile=driver.find_element_by_xpath(\"//input[@id='LocationSearch']\")\n",
    "JobProfile.send_keys(\"Noida\")"
   ]
  },
  {
   "cell_type": "code",
   "execution_count": 84,
   "metadata": {},
   "outputs": [],
   "source": [
    "#clicking search button through code.\n",
    "search_btn=driver.find_element_by_xpath(\"//button[@id='HeroSearchButton']\")\n",
    "search_btn.click()\n"
   ]
  },
  {
   "cell_type": "code",
   "execution_count": 45,
   "metadata": {},
   "outputs": [],
   "source": [
    "#extracting company names.\n",
    "CompanyList=driver.find_elements_by_xpath(\"//div[@data-test='job-info']\")"
   ]
  },
  {
   "cell_type": "code",
   "execution_count": 46,
   "metadata": {},
   "outputs": [
    {
     "data": {
      "text/plain": [
       "20"
      ]
     },
     "execution_count": 46,
     "metadata": {},
     "output_type": "execute_result"
    }
   ],
   "source": [
    "len(CompanyList)"
   ]
  },
  {
   "cell_type": "code",
   "execution_count": 47,
   "metadata": {},
   "outputs": [],
   "source": [
    "for i in range(10):\n",
    "    CompanyList[i]=CompanyList[i].text\n",
    "    "
   ]
  },
  {
   "cell_type": "code",
   "execution_count": 48,
   "metadata": {},
   "outputs": [],
   "source": [
    "Companies=[]"
   ]
  },
  {
   "cell_type": "code",
   "execution_count": 49,
   "metadata": {},
   "outputs": [],
   "source": [
    "Company1=CompanyList[0].split(\"\\n\")\n",
    "Companies[0]=Company1[1]\n",
    "\n",
    "Company2=CompanyList[1].split(\"\\n\")\n",
    "Companies[1]=Company2[1]\n",
    "\n",
    "Company3=CompanyList[2].split(\"\\n\")\n",
    "Companies[2]=Company3[1]\n",
    "\n",
    "Company4=CompanyList[3].split(\"\\n\")\n",
    "Companies[3]=Company4[1]\n",
    "\n",
    "Company5=CompanyList[4].split(\"\\n\")\n",
    "Companies[4]=Company5[1]\n",
    "\n",
    "Company6=CompanyList[5].split(\"\\n\")\n",
    "Companies[5]=Company6[1]\n",
    "\n",
    "Company7=CompanyList[6].split(\"\\n\")\n",
    "Companies[6]=Company7[1]\n",
    "\n",
    "Company8=CompanyList[7].split(\"\\n\")\n",
    "Companies[7]=Company8[1]\n",
    "\n",
    "Company9=CompanyList[8].split(\"\\n\")\n",
    "Companies[8]=Company9[1]\n",
    "\n",
    "Company10=CompanyList[9].split(\"\\n\")\n",
    "Companies[9]=Company10[1]\n",
    "    "
   ]
  },
  {
   "cell_type": "code",
   "execution_count": 50,
   "metadata": {},
   "outputs": [
    {
     "data": {
      "text/plain": [
       "['Tata Consultancy Services',\n",
       " 'Accenture',\n",
       " 'Delhivery',\n",
       " 'IBM',\n",
       " 'Ericsson-Worldwide',\n",
       " 'UnitedHealth Group',\n",
       " 'Valiance Solutions',\n",
       " 'Innovaccer',\n",
       " 'ZS Associates',\n",
       " 'EXL Service']"
      ]
     },
     "execution_count": 50,
     "metadata": {},
     "output_type": "execute_result"
    }
   ],
   "source": [
    "Companies"
   ]
  },
  {
   "cell_type": "code",
   "execution_count": 51,
   "metadata": {},
   "outputs": [],
   "source": [
    "\n",
    "Salaries=driver.find_elements_by_xpath(\"//div[@class='col-2 d-none d-md-flex flex-row justify-content-end']\")"
   ]
  },
  {
   "cell_type": "code",
   "execution_count": 54,
   "metadata": {},
   "outputs": [
    {
     "data": {
      "text/plain": [
       "'₹ 6,01,000 per/yr'"
      ]
     },
     "execution_count": 54,
     "metadata": {},
     "output_type": "execute_result"
    }
   ],
   "source": [
    "Salaries[0].text.replace(\"\\n\",\"\")"
   ]
  },
  {
   "cell_type": "code",
   "execution_count": 53,
   "metadata": {},
   "outputs": [
    {
     "data": {
      "text/plain": [
       "20"
      ]
     },
     "execution_count": 53,
     "metadata": {},
     "output_type": "execute_result"
    }
   ],
   "source": [
    "len(Salaries)"
   ]
  },
  {
   "cell_type": "code",
   "execution_count": 55,
   "metadata": {},
   "outputs": [],
   "source": [
    "for i in range(10):\n",
    "    Salaries[i]=Salaries[i].text.replace(\"\\n\",\"\")\n",
    "    "
   ]
  },
  {
   "cell_type": "code",
   "execution_count": 56,
   "metadata": {},
   "outputs": [],
   "source": [
    "Salaries=Salaries[0:10]"
   ]
  },
  {
   "cell_type": "code",
   "execution_count": 57,
   "metadata": {},
   "outputs": [
    {
     "data": {
      "text/plain": [
       "['₹ 6,01,000/yr',\n",
       " '₹ 11,51,207/yr',\n",
       " '₹ 12,34,207/yr',\n",
       " '₹ 7,63,825/yr',\n",
       " '₹ 7,32,209/yr',\n",
       " '₹ 13,88,910/yr',\n",
       " '₹ 8,18,515/yr',\n",
       " '₹ 12,01,403/yr',\n",
       " '₹ 10,00,000/yr',\n",
       " '₹ 11,90,000/yr']"
      ]
     },
     "execution_count": 57,
     "metadata": {},
     "output_type": "execute_result"
    }
   ],
   "source": [
    "Salaries"
   ]
  },
  {
   "cell_type": "code",
   "execution_count": 85,
   "metadata": {},
   "outputs": [],
   "source": [
    "\n",
    "SalaryRange=driver.find_elements_by_xpath(\"//div[@class='common__RangeBarStyle__values d-flex justify-content-between ']\")"
   ]
  },
  {
   "cell_type": "code",
   "execution_count": 86,
   "metadata": {},
   "outputs": [
    {
     "data": {
      "text/plain": [
       "20"
      ]
     },
     "execution_count": 86,
     "metadata": {},
     "output_type": "execute_result"
    }
   ],
   "source": [
    "len(SalaryRange)"
   ]
  },
  {
   "cell_type": "code",
   "execution_count": 87,
   "metadata": {},
   "outputs": [
    {
     "data": {
      "text/plain": [
       "'₹336L\\n₹1,080L'"
      ]
     },
     "execution_count": 87,
     "metadata": {},
     "output_type": "execute_result"
    }
   ],
   "source": [
    "SalaryRange[0].text"
   ]
  },
  {
   "cell_type": "code",
   "execution_count": 88,
   "metadata": {},
   "outputs": [],
   "source": [
    "for i in range(10):\n",
    "    SalaryRange[i]=SalaryRange[i].text.replace(\"\\n\",\"-\")\n",
    "    "
   ]
  },
  {
   "cell_type": "code",
   "execution_count": 89,
   "metadata": {},
   "outputs": [],
   "source": [
    "SalaryRange=SalaryRange[0:10]"
   ]
  },
  {
   "cell_type": "code",
   "execution_count": 90,
   "metadata": {},
   "outputs": [
    {
     "data": {
      "text/plain": [
       "['₹336L-₹1,080L',\n",
       " '₹579L-₹2,222L',\n",
       " '₹452L-₹11,669L',\n",
       " '₹589L-₹2,741L',\n",
       " '₹350L-₹1,619L',\n",
       " '₹1,050L-₹1,500L',\n",
       " '₹504L-₹1,471L',\n",
       " '₹623L-₹1,702L',\n",
       " '₹203L-₹1,817L',\n",
       " '₹578L-₹1,500L']"
      ]
     },
     "execution_count": 90,
     "metadata": {},
     "output_type": "execute_result"
    }
   ],
   "source": [
    "SalaryRange"
   ]
  },
  {
   "cell_type": "code",
   "execution_count": 91,
   "metadata": {},
   "outputs": [],
   "source": [
    " DsNoida_df=pd.DataFrame({\n",
    "                         'Company':Companies,\n",
    "                         'Salary':Salaries,\n",
    "                          'Salary Range':SalaryRange})"
   ]
  },
  {
   "cell_type": "code",
   "execution_count": 92,
   "metadata": {},
   "outputs": [
    {
     "data": {
      "text/html": [
       "<div>\n",
       "<style scoped>\n",
       "    .dataframe tbody tr th:only-of-type {\n",
       "        vertical-align: middle;\n",
       "    }\n",
       "\n",
       "    .dataframe tbody tr th {\n",
       "        vertical-align: top;\n",
       "    }\n",
       "\n",
       "    .dataframe thead th {\n",
       "        text-align: right;\n",
       "    }\n",
       "</style>\n",
       "<table border=\"1\" class=\"dataframe\">\n",
       "  <thead>\n",
       "    <tr style=\"text-align: right;\">\n",
       "      <th></th>\n",
       "      <th>Company</th>\n",
       "      <th>Salary</th>\n",
       "      <th>Salary Range</th>\n",
       "    </tr>\n",
       "  </thead>\n",
       "  <tbody>\n",
       "    <tr>\n",
       "      <th>0</th>\n",
       "      <td>Tata Consultancy Services</td>\n",
       "      <td>₹ 6,01,000/yr</td>\n",
       "      <td>₹336L-₹1,080L</td>\n",
       "    </tr>\n",
       "    <tr>\n",
       "      <th>1</th>\n",
       "      <td>Accenture</td>\n",
       "      <td>₹ 11,51,207/yr</td>\n",
       "      <td>₹579L-₹2,222L</td>\n",
       "    </tr>\n",
       "    <tr>\n",
       "      <th>2</th>\n",
       "      <td>Delhivery</td>\n",
       "      <td>₹ 12,34,207/yr</td>\n",
       "      <td>₹452L-₹11,669L</td>\n",
       "    </tr>\n",
       "    <tr>\n",
       "      <th>3</th>\n",
       "      <td>IBM</td>\n",
       "      <td>₹ 7,63,825/yr</td>\n",
       "      <td>₹589L-₹2,741L</td>\n",
       "    </tr>\n",
       "    <tr>\n",
       "      <th>4</th>\n",
       "      <td>Ericsson-Worldwide</td>\n",
       "      <td>₹ 7,32,209/yr</td>\n",
       "      <td>₹350L-₹1,619L</td>\n",
       "    </tr>\n",
       "    <tr>\n",
       "      <th>5</th>\n",
       "      <td>UnitedHealth Group</td>\n",
       "      <td>₹ 13,88,910/yr</td>\n",
       "      <td>₹1,050L-₹1,500L</td>\n",
       "    </tr>\n",
       "    <tr>\n",
       "      <th>6</th>\n",
       "      <td>Valiance Solutions</td>\n",
       "      <td>₹ 8,18,515/yr</td>\n",
       "      <td>₹504L-₹1,471L</td>\n",
       "    </tr>\n",
       "    <tr>\n",
       "      <th>7</th>\n",
       "      <td>Innovaccer</td>\n",
       "      <td>₹ 12,01,403/yr</td>\n",
       "      <td>₹623L-₹1,702L</td>\n",
       "    </tr>\n",
       "    <tr>\n",
       "      <th>8</th>\n",
       "      <td>ZS Associates</td>\n",
       "      <td>₹ 10,00,000/yr</td>\n",
       "      <td>₹203L-₹1,817L</td>\n",
       "    </tr>\n",
       "    <tr>\n",
       "      <th>9</th>\n",
       "      <td>EXL Service</td>\n",
       "      <td>₹ 11,90,000/yr</td>\n",
       "      <td>₹578L-₹1,500L</td>\n",
       "    </tr>\n",
       "  </tbody>\n",
       "</table>\n",
       "</div>"
      ],
      "text/plain": [
       "                     Company          Salary     Salary Range\n",
       "0  Tata Consultancy Services   ₹ 6,01,000/yr    ₹336L-₹1,080L\n",
       "1                  Accenture  ₹ 11,51,207/yr    ₹579L-₹2,222L\n",
       "2                  Delhivery  ₹ 12,34,207/yr   ₹452L-₹11,669L\n",
       "3                        IBM   ₹ 7,63,825/yr    ₹589L-₹2,741L\n",
       "4         Ericsson-Worldwide   ₹ 7,32,209/yr    ₹350L-₹1,619L\n",
       "5         UnitedHealth Group  ₹ 13,88,910/yr  ₹1,050L-₹1,500L\n",
       "6         Valiance Solutions   ₹ 8,18,515/yr    ₹504L-₹1,471L\n",
       "7                 Innovaccer  ₹ 12,01,403/yr    ₹623L-₹1,702L\n",
       "8              ZS Associates  ₹ 10,00,000/yr    ₹203L-₹1,817L\n",
       "9                EXL Service  ₹ 11,90,000/yr    ₹578L-₹1,500L"
      ]
     },
     "execution_count": 92,
     "metadata": {},
     "output_type": "execute_result"
    }
   ],
   "source": [
    "DsNoida_df"
   ]
  },
  {
   "cell_type": "code",
   "execution_count": 93,
   "metadata": {},
   "outputs": [],
   "source": [
    "#closing the driver\n",
    "driver.close()"
   ]
  },
  {
   "cell_type": "markdown",
   "metadata": {},
   "source": [
    "# TASK 6"
   ]
  },
  {
   "cell_type": "code",
   "execution_count": 116,
   "metadata": {},
   "outputs": [],
   "source": [
    "#working\n",
    "#creating driver object\n",
    "\n",
    "driver=webdriver.Chrome(r\"C:/chromedriver.exe\")\n",
    "driver.get(\"https://www.flipkart.com\")"
   ]
  },
  {
   "cell_type": "code",
   "execution_count": 117,
   "metadata": {},
   "outputs": [],
   "source": [
    "#Searching for sun glasses\n",
    "Search=driver.find_element_by_xpath(\"//input[@title='Search for products, brands and more']\")\n",
    "Search.send_keys(\"sunglasses\")"
   ]
  },
  {
   "cell_type": "code",
   "execution_count": 120,
   "metadata": {},
   "outputs": [],
   "source": [
    "#clicking search button through code.\n",
    "search_btn=driver.find_element_by_xpath(\"//button[@type='submit']\")\n",
    "search_btn.click()\n"
   ]
  },
  {
   "cell_type": "code",
   "execution_count": 121,
   "metadata": {},
   "outputs": [],
   "source": [
    "firstPage=driver.find_elements_by_xpath(\"//div[@class='_2B099V']\")"
   ]
  },
  {
   "cell_type": "code",
   "execution_count": 122,
   "metadata": {},
   "outputs": [
    {
     "data": {
      "text/plain": [
       "40"
      ]
     },
     "execution_count": 122,
     "metadata": {},
     "output_type": "execute_result"
    }
   ],
   "source": [
    "len(firstPage)"
   ]
  },
  {
   "cell_type": "code",
   "execution_count": 123,
   "metadata": {},
   "outputs": [
    {
     "data": {
      "text/plain": [
       "'VAST\\nPolarized, Gradient, UV Protection Rectangular Sunglass...\\n₹595₹2,50076% off'"
      ]
     },
     "execution_count": 123,
     "metadata": {},
     "output_type": "execute_result"
    }
   ],
   "source": [
    "firstPage[0].text"
   ]
  },
  {
   "cell_type": "code",
   "execution_count": 124,
   "metadata": {},
   "outputs": [],
   "source": [
    "for i in range(40):\n",
    "    firstPage[i]=firstPage[i].text"
   ]
  },
  {
   "cell_type": "code",
   "execution_count": 125,
   "metadata": {},
   "outputs": [],
   "source": [
    "#clicking Next button through code.\n",
    "next_btn=driver.find_element_by_xpath(\"//a[@class='_1LKTO3']\")\n",
    "next_btn.click()\n"
   ]
  },
  {
   "cell_type": "code",
   "execution_count": 126,
   "metadata": {},
   "outputs": [],
   "source": [
    "SecondPage=driver.find_elements_by_xpath(\"//div[@class='_2B099V']\")"
   ]
  },
  {
   "cell_type": "code",
   "execution_count": 127,
   "metadata": {},
   "outputs": [
    {
     "data": {
      "text/plain": [
       "40"
      ]
     },
     "execution_count": 127,
     "metadata": {},
     "output_type": "execute_result"
    }
   ],
   "source": [
    "len(SecondPage)"
   ]
  },
  {
   "cell_type": "code",
   "execution_count": 128,
   "metadata": {},
   "outputs": [
    {
     "data": {
      "text/plain": [
       "'Fastrack\\nUV Protection Aviator Sunglasses (58)\\n₹1,085₹1,29916% off'"
      ]
     },
     "execution_count": 128,
     "metadata": {},
     "output_type": "execute_result"
    }
   ],
   "source": [
    "SecondPage[0].text"
   ]
  },
  {
   "cell_type": "code",
   "execution_count": 129,
   "metadata": {},
   "outputs": [],
   "source": [
    "for i in range(40):\n",
    "        SecondPage[i]=SecondPage[i].text"
   ]
  },
  {
   "cell_type": "code",
   "execution_count": 135,
   "metadata": {},
   "outputs": [],
   "source": [
    "#clicking Next button through code.\n",
    "next_btn=driver.find_element_by_xpath(\"//a[@class='_1LKTO3']\")\n",
    "if next_btn.text=='NEXT':\n",
    "            next_btn.click()\n",
    "\n"
   ]
  },
  {
   "cell_type": "code",
   "execution_count": 136,
   "metadata": {},
   "outputs": [],
   "source": [
    "ThirdPage=driver.find_elements_by_xpath(\"//div[@class='_2B099V']\")"
   ]
  },
  {
   "cell_type": "code",
   "execution_count": 137,
   "metadata": {},
   "outputs": [
    {
     "data": {
      "text/plain": [
       "40"
      ]
     },
     "execution_count": 137,
     "metadata": {},
     "output_type": "execute_result"
    }
   ],
   "source": [
    "len(ThirdPage)"
   ]
  },
  {
   "cell_type": "code",
   "execution_count": 138,
   "metadata": {},
   "outputs": [
    {
     "data": {
      "text/plain": [
       "'NuVew\\nUV Protection, Mirrored Sports Sunglasses (73)\\n₹316₹1,24574% off'"
      ]
     },
     "execution_count": 138,
     "metadata": {},
     "output_type": "execute_result"
    }
   ],
   "source": [
    "ThirdPage[0].text"
   ]
  },
  {
   "cell_type": "code",
   "execution_count": 139,
   "metadata": {},
   "outputs": [],
   "source": [
    "for i in range(40):\n",
    "    ThirdPage[i]=ThirdPage[i].text"
   ]
  },
  {
   "cell_type": "code",
   "execution_count": 140,
   "metadata": {},
   "outputs": [],
   "source": [
    "Sunglasses=firstPage+SecondPage+ThirdPage"
   ]
  },
  {
   "cell_type": "code",
   "execution_count": 142,
   "metadata": {},
   "outputs": [],
   "source": [
    "Sunglases100_df=pd.DataFrame(Sunglasses[i].split(\"\\n\") for i in range(100))"
   ]
  },
  {
   "cell_type": "code",
   "execution_count": 143,
   "metadata": {},
   "outputs": [
    {
     "data": {
      "text/html": [
       "<div>\n",
       "<style scoped>\n",
       "    .dataframe tbody tr th:only-of-type {\n",
       "        vertical-align: middle;\n",
       "    }\n",
       "\n",
       "    .dataframe tbody tr th {\n",
       "        vertical-align: top;\n",
       "    }\n",
       "\n",
       "    .dataframe thead th {\n",
       "        text-align: right;\n",
       "    }\n",
       "</style>\n",
       "<table border=\"1\" class=\"dataframe\">\n",
       "  <thead>\n",
       "    <tr style=\"text-align: right;\">\n",
       "      <th></th>\n",
       "      <th>0</th>\n",
       "      <th>1</th>\n",
       "      <th>2</th>\n",
       "      <th>3</th>\n",
       "    </tr>\n",
       "  </thead>\n",
       "  <tbody>\n",
       "    <tr>\n",
       "      <th>0</th>\n",
       "      <td>VAST</td>\n",
       "      <td>Polarized, Gradient, UV Protection Rectangular...</td>\n",
       "      <td>₹595₹2,50076% off</td>\n",
       "      <td>None</td>\n",
       "    </tr>\n",
       "    <tr>\n",
       "      <th>1</th>\n",
       "      <td>CHEMISTRY</td>\n",
       "      <td>Gradient Round Sunglasses (Free Size)</td>\n",
       "      <td>₹420₹2,19980% off</td>\n",
       "      <td>None</td>\n",
       "    </tr>\n",
       "    <tr>\n",
       "      <th>2</th>\n",
       "      <td>Fastrack</td>\n",
       "      <td>UV Protection Rectangular Sunglasses (Free Size)</td>\n",
       "      <td>₹569₹79928% off</td>\n",
       "      <td>None</td>\n",
       "    </tr>\n",
       "    <tr>\n",
       "      <th>3</th>\n",
       "      <td>PIRASO</td>\n",
       "      <td>UV Protection Aviator Sunglasses (Free Size)</td>\n",
       "      <td>₹314₹1,59980% off</td>\n",
       "      <td>None</td>\n",
       "    </tr>\n",
       "    <tr>\n",
       "      <th>4</th>\n",
       "      <td>PIRASO</td>\n",
       "      <td>UV Protection Aviator Sunglasses (54)</td>\n",
       "      <td>₹225₹1,59985% off</td>\n",
       "      <td>None</td>\n",
       "    </tr>\n",
       "    <tr>\n",
       "      <th>...</th>\n",
       "      <td>...</td>\n",
       "      <td>...</td>\n",
       "      <td>...</td>\n",
       "      <td>...</td>\n",
       "    </tr>\n",
       "    <tr>\n",
       "      <th>95</th>\n",
       "      <td>Aislin</td>\n",
       "      <td>UV Protection, Gradient Cat-eye Sunglasses (58)</td>\n",
       "      <td>₹459₹1,52569% off</td>\n",
       "      <td>None</td>\n",
       "    </tr>\n",
       "    <tr>\n",
       "      <th>96</th>\n",
       "      <td>Crackers</td>\n",
       "      <td>UV Protection Aviator Sunglasses (55)</td>\n",
       "      <td>₹189₹99981% off</td>\n",
       "      <td>None</td>\n",
       "    </tr>\n",
       "    <tr>\n",
       "      <th>97</th>\n",
       "      <td>PIRASO</td>\n",
       "      <td>UV Protection Aviator Sunglasses (54)</td>\n",
       "      <td>₹197₹1,59987% off</td>\n",
       "      <td>None</td>\n",
       "    </tr>\n",
       "    <tr>\n",
       "      <th>98</th>\n",
       "      <td>Fastrack</td>\n",
       "      <td>UV Protection Wrap-around Sunglasses (Free Size)</td>\n",
       "      <td>₹759₹89915% off</td>\n",
       "      <td>None</td>\n",
       "    </tr>\n",
       "    <tr>\n",
       "      <th>99</th>\n",
       "      <td>Fastrack</td>\n",
       "      <td>UV Protection Wayfarer Sunglasses (56)</td>\n",
       "      <td>₹753₹89916% off</td>\n",
       "      <td>None</td>\n",
       "    </tr>\n",
       "  </tbody>\n",
       "</table>\n",
       "<p>100 rows × 4 columns</p>\n",
       "</div>"
      ],
      "text/plain": [
       "            0                                                  1  \\\n",
       "0        VAST  Polarized, Gradient, UV Protection Rectangular...   \n",
       "1   CHEMISTRY              Gradient Round Sunglasses (Free Size)   \n",
       "2    Fastrack   UV Protection Rectangular Sunglasses (Free Size)   \n",
       "3      PIRASO       UV Protection Aviator Sunglasses (Free Size)   \n",
       "4      PIRASO              UV Protection Aviator Sunglasses (54)   \n",
       "..        ...                                                ...   \n",
       "95     Aislin    UV Protection, Gradient Cat-eye Sunglasses (58)   \n",
       "96   Crackers              UV Protection Aviator Sunglasses (55)   \n",
       "97     PIRASO              UV Protection Aviator Sunglasses (54)   \n",
       "98   Fastrack   UV Protection Wrap-around Sunglasses (Free Size)   \n",
       "99   Fastrack             UV Protection Wayfarer Sunglasses (56)   \n",
       "\n",
       "                    2     3  \n",
       "0   ₹595₹2,50076% off  None  \n",
       "1   ₹420₹2,19980% off  None  \n",
       "2     ₹569₹79928% off  None  \n",
       "3   ₹314₹1,59980% off  None  \n",
       "4   ₹225₹1,59985% off  None  \n",
       "..                ...   ...  \n",
       "95  ₹459₹1,52569% off  None  \n",
       "96    ₹189₹99981% off  None  \n",
       "97  ₹197₹1,59987% off  None  \n",
       "98    ₹759₹89915% off  None  \n",
       "99    ₹753₹89916% off  None  \n",
       "\n",
       "[100 rows x 4 columns]"
      ]
     },
     "execution_count": 143,
     "metadata": {},
     "output_type": "execute_result"
    }
   ],
   "source": [
    "Sunglases100_df"
   ]
  },
  {
   "cell_type": "code",
   "execution_count": 144,
   "metadata": {},
   "outputs": [],
   "source": [
    "#closing the driver\n",
    "driver.close()"
   ]
  },
  {
   "cell_type": "code",
   "execution_count": 361,
   "metadata": {},
   "outputs": [],
   "source": [
    "Sunglases100_df['price'] = Sunglases100_df[2].str.split('₹').str.get(1)\n",
    "Sunglases100_df['discount%'] = Sunglases100_df[2].str.split('₹').str.get(2)"
   ]
  },
  {
   "cell_type": "code",
   "execution_count": 362,
   "metadata": {},
   "outputs": [],
   "source": [
    "Sunglases100_df.drop([2,3],axis=1,inplace=True)"
   ]
  },
  {
   "cell_type": "code",
   "execution_count": 365,
   "metadata": {},
   "outputs": [],
   "source": [
    "Sunglases100_df.rename(columns={0:'BRAND',1:'PRODUCT DESCRIPTION'},inplace=True)"
   ]
  },
  {
   "cell_type": "code",
   "execution_count": 366,
   "metadata": {},
   "outputs": [
    {
     "data": {
      "text/html": [
       "<div>\n",
       "<style scoped>\n",
       "    .dataframe tbody tr th:only-of-type {\n",
       "        vertical-align: middle;\n",
       "    }\n",
       "\n",
       "    .dataframe tbody tr th {\n",
       "        vertical-align: top;\n",
       "    }\n",
       "\n",
       "    .dataframe thead th {\n",
       "        text-align: right;\n",
       "    }\n",
       "</style>\n",
       "<table border=\"1\" class=\"dataframe\">\n",
       "  <thead>\n",
       "    <tr style=\"text-align: right;\">\n",
       "      <th></th>\n",
       "      <th>BRAND</th>\n",
       "      <th>PRODUCT DESCRIPTION</th>\n",
       "      <th>price</th>\n",
       "      <th>discount%</th>\n",
       "    </tr>\n",
       "  </thead>\n",
       "  <tbody>\n",
       "    <tr>\n",
       "      <th>BRAND</th>\n",
       "      <td>VAST</td>\n",
       "      <td>Polarized, Gradient, UV Protection Rectangular...</td>\n",
       "      <td>595</td>\n",
       "      <td>2,50076% off</td>\n",
       "    </tr>\n",
       "    <tr>\n",
       "      <th>PRODUCT DESCRIPTION</th>\n",
       "      <td>CHEMISTRY</td>\n",
       "      <td>Gradient Round Sunglasses (Free Size)</td>\n",
       "      <td>420</td>\n",
       "      <td>2,19980% off</td>\n",
       "    </tr>\n",
       "    <tr>\n",
       "      <th>2</th>\n",
       "      <td>Fastrack</td>\n",
       "      <td>UV Protection Rectangular Sunglasses (Free Size)</td>\n",
       "      <td>569</td>\n",
       "      <td>79928% off</td>\n",
       "    </tr>\n",
       "    <tr>\n",
       "      <th>3</th>\n",
       "      <td>PIRASO</td>\n",
       "      <td>UV Protection Aviator Sunglasses (Free Size)</td>\n",
       "      <td>314</td>\n",
       "      <td>1,59980% off</td>\n",
       "    </tr>\n",
       "    <tr>\n",
       "      <th>4</th>\n",
       "      <td>PIRASO</td>\n",
       "      <td>UV Protection Aviator Sunglasses (54)</td>\n",
       "      <td>225</td>\n",
       "      <td>1,59985% off</td>\n",
       "    </tr>\n",
       "    <tr>\n",
       "      <th>...</th>\n",
       "      <td>...</td>\n",
       "      <td>...</td>\n",
       "      <td>...</td>\n",
       "      <td>...</td>\n",
       "    </tr>\n",
       "    <tr>\n",
       "      <th>95</th>\n",
       "      <td>Aislin</td>\n",
       "      <td>UV Protection, Gradient Cat-eye Sunglasses (58)</td>\n",
       "      <td>459</td>\n",
       "      <td>1,52569% off</td>\n",
       "    </tr>\n",
       "    <tr>\n",
       "      <th>96</th>\n",
       "      <td>Crackers</td>\n",
       "      <td>UV Protection Aviator Sunglasses (55)</td>\n",
       "      <td>189</td>\n",
       "      <td>99981% off</td>\n",
       "    </tr>\n",
       "    <tr>\n",
       "      <th>97</th>\n",
       "      <td>PIRASO</td>\n",
       "      <td>UV Protection Aviator Sunglasses (54)</td>\n",
       "      <td>197</td>\n",
       "      <td>1,59987% off</td>\n",
       "    </tr>\n",
       "    <tr>\n",
       "      <th>98</th>\n",
       "      <td>Fastrack</td>\n",
       "      <td>UV Protection Wrap-around Sunglasses (Free Size)</td>\n",
       "      <td>759</td>\n",
       "      <td>89915% off</td>\n",
       "    </tr>\n",
       "    <tr>\n",
       "      <th>99</th>\n",
       "      <td>Fastrack</td>\n",
       "      <td>UV Protection Wayfarer Sunglasses (56)</td>\n",
       "      <td>753</td>\n",
       "      <td>89916% off</td>\n",
       "    </tr>\n",
       "  </tbody>\n",
       "</table>\n",
       "<p>100 rows × 4 columns</p>\n",
       "</div>"
      ],
      "text/plain": [
       "                         BRAND  \\\n",
       "BRAND                     VAST   \n",
       "PRODUCT DESCRIPTION  CHEMISTRY   \n",
       "2                     Fastrack   \n",
       "3                       PIRASO   \n",
       "4                       PIRASO   \n",
       "...                        ...   \n",
       "95                      Aislin   \n",
       "96                    Crackers   \n",
       "97                      PIRASO   \n",
       "98                    Fastrack   \n",
       "99                    Fastrack   \n",
       "\n",
       "                                                   PRODUCT DESCRIPTION price  \\\n",
       "BRAND                Polarized, Gradient, UV Protection Rectangular...   595   \n",
       "PRODUCT DESCRIPTION              Gradient Round Sunglasses (Free Size)   420   \n",
       "2                     UV Protection Rectangular Sunglasses (Free Size)   569   \n",
       "3                         UV Protection Aviator Sunglasses (Free Size)   314   \n",
       "4                                UV Protection Aviator Sunglasses (54)   225   \n",
       "...                                                                ...   ...   \n",
       "95                     UV Protection, Gradient Cat-eye Sunglasses (58)   459   \n",
       "96                               UV Protection Aviator Sunglasses (55)   189   \n",
       "97                               UV Protection Aviator Sunglasses (54)   197   \n",
       "98                    UV Protection Wrap-around Sunglasses (Free Size)   759   \n",
       "99                              UV Protection Wayfarer Sunglasses (56)   753   \n",
       "\n",
       "                        discount%  \n",
       "BRAND                2,50076% off  \n",
       "PRODUCT DESCRIPTION  2,19980% off  \n",
       "2                      79928% off  \n",
       "3                    1,59980% off  \n",
       "4                    1,59985% off  \n",
       "...                           ...  \n",
       "95                   1,52569% off  \n",
       "96                     99981% off  \n",
       "97                   1,59987% off  \n",
       "98                     89915% off  \n",
       "99                     89916% off  \n",
       "\n",
       "[100 rows x 4 columns]"
      ]
     },
     "execution_count": 366,
     "metadata": {},
     "output_type": "execute_result"
    }
   ],
   "source": [
    "#final data frame\n",
    "Sunglases100_df"
   ]
  },
  {
   "cell_type": "markdown",
   "metadata": {},
   "source": [
    "# TASK 7"
   ]
  },
  {
   "cell_type": "code",
   "execution_count": 250,
   "metadata": {},
   "outputs": [],
   "source": [
    "#working.\n",
    "driver=webdriver.Chrome(r\"C:/chromedriver.exe\")\n",
    "driver.get(\"https://www.flipkart.com/apple-iphone-11-black-64-gb-includes\u0002earpods-power\u0002adapter/p/itm0f37c2240b217?pid=MOBFKCTSVZAXUHGR&lid=LSTMOBFKCTSVZAXUHGREPBFGI&marketplace\")"
   ]
  },
  {
   "cell_type": "code",
   "execution_count": 251,
   "metadata": {},
   "outputs": [],
   "source": [
    "url = 'https://www.flipkart.com/apple-iphone-11-black-64-gb-includes-earpods-power-adapter/product-reviews/itm0f37c2240b217?pid=MOBFKCTSVZAXUHGR&lid=LSTMOBFKCTSVZAXUHGREPBFGI&marketplace=FLIPKART'"
   ]
  },
  {
   "cell_type": "code",
   "execution_count": 252,
   "metadata": {},
   "outputs": [],
   "source": [
    "driver.get(url)"
   ]
  },
  {
   "cell_type": "code",
   "execution_count": 253,
   "metadata": {},
   "outputs": [],
   "source": [
    "Rating=[]\n",
    "Review_Summary=[]\n",
    "Full_Review=[]"
   ]
  },
  {
   "cell_type": "code",
   "execution_count": 254,
   "metadata": {},
   "outputs": [],
   "source": [
    "rating=driver.find_elements_by_xpath(\"//div[@class='_3LWZlK _1BLPMq']\")"
   ]
  },
  {
   "cell_type": "code",
   "execution_count": 255,
   "metadata": {},
   "outputs": [],
   "source": [
    "rvw=driver.find_elements_by_xpath(\"//p[@class='_2-N8zT']\")"
   ]
  },
  {
   "cell_type": "code",
   "execution_count": 256,
   "metadata": {},
   "outputs": [],
   "source": [
    "FRvw=driver.find_elements_by_xpath(\"//div[@class='t-ZTKy']\")"
   ]
  },
  {
   "cell_type": "code",
   "execution_count": 257,
   "metadata": {},
   "outputs": [
    {
     "data": {
      "text/plain": [
       "10"
      ]
     },
     "execution_count": 257,
     "metadata": {},
     "output_type": "execute_result"
    }
   ],
   "source": [
    "len(FRvw)"
   ]
  },
  {
   "cell_type": "code",
   "execution_count": 258,
   "metadata": {},
   "outputs": [
    {
     "data": {
      "text/plain": [
       "'5'"
      ]
     },
     "execution_count": 258,
     "metadata": {},
     "output_type": "execute_result"
    }
   ],
   "source": [
    "rating[0].text"
   ]
  },
  {
   "cell_type": "code",
   "execution_count": 259,
   "metadata": {},
   "outputs": [
    {
     "data": {
      "text/plain": [
       "'Brilliant'"
      ]
     },
     "execution_count": 259,
     "metadata": {},
     "output_type": "execute_result"
    }
   ],
   "source": [
    "rvw[0].text"
   ]
  },
  {
   "cell_type": "code",
   "execution_count": 260,
   "metadata": {},
   "outputs": [
    {
     "data": {
      "text/plain": [
       "'The Best Phone for the Money\\n\\nThe iPhone 11 offers superb cameras, a more durable design and excellent battery life for an affordable price.\\n\\nCompelling ultra-wide camera\\nNew Night mode is excellent\\nLong battery life'"
      ]
     },
     "execution_count": 260,
     "metadata": {},
     "output_type": "execute_result"
    }
   ],
   "source": [
    "FRvw[0].text"
   ]
  },
  {
   "cell_type": "code",
   "execution_count": 261,
   "metadata": {},
   "outputs": [],
   "source": [
    "for i in range(10):\n",
    "    Rating.append(rating[i].text)\n",
    "    Review_Summary.append(rvw[i].text)\n",
    "    Full_Review.append(FRvw[i].text.replace(\"\\n\",\"\"))"
   ]
  },
  {
   "cell_type": "code",
   "execution_count": 262,
   "metadata": {},
   "outputs": [],
   "source": [
    "#clicking Next button through code.\n",
    "next_btn=driver.find_element_by_xpath(\"//a[@class='_1LKTO3']\")\n",
    "if next_btn.text=='NEXT':\n",
    "            next_btn.click()\n"
   ]
  },
  {
   "cell_type": "code",
   "execution_count": 263,
   "metadata": {},
   "outputs": [],
   "source": [
    "#extracting reviews info from 2nd page\n",
    "Page2rating=driver.find_elements_by_xpath(\"//div[@class='_3LWZlK _1BLPMq']\")\n",
    "Page2rvw=driver.find_elements_by_xpath(\"//p[@class='_2-N8zT']\")\n",
    "Page2FRvw=driver.find_elements_by_xpath(\"//div[@class='t-ZTKy']\")\n"
   ]
  },
  {
   "cell_type": "code",
   "execution_count": 264,
   "metadata": {},
   "outputs": [
    {
     "data": {
      "text/plain": [
       "10"
      ]
     },
     "execution_count": 264,
     "metadata": {},
     "output_type": "execute_result"
    }
   ],
   "source": [
    "len(Page2rating)"
   ]
  },
  {
   "cell_type": "code",
   "execution_count": 265,
   "metadata": {},
   "outputs": [],
   "source": [
    "#appending values to the list.\n",
    "for i in range(10):\n",
    "    Rating.append(Page2rating[i].text)\n",
    "    Review_Summary.append(Page2rvw[i].text)\n",
    "    Full_Review.append(Page2FRvw[i].text.replace(\"\\n\",\"\"))"
   ]
  },
  {
   "cell_type": "code",
   "execution_count": 266,
   "metadata": {},
   "outputs": [],
   "source": [
    "#extracting reviews info from 3rd page\n",
    "Page3rating=driver.find_elements_by_xpath(\"//div[@class='_3LWZlK _1BLPMq']\")\n",
    "Page3rvw=driver.find_elements_by_xpath(\"//p[@class='_2-N8zT']\")\n",
    "Page3FRvw=driver.find_elements_by_xpath(\"//div[@class='t-ZTKy']\")\n"
   ]
  },
  {
   "cell_type": "code",
   "execution_count": 267,
   "metadata": {},
   "outputs": [],
   "source": [
    "for i in range(10):\n",
    "    Rating.append(Page3rating[i].text)\n",
    "    Review_Summary.append(Page3rvw[i].text)\n",
    "    Full_Review.append(Page3FRvw[i].text.replace(\"\\n\",\"\"))"
   ]
  },
  {
   "cell_type": "code",
   "execution_count": 268,
   "metadata": {},
   "outputs": [],
   "source": [
    "#clicking Next button through code.\n",
    "next_btn=driver.find_element_by_xpath(\"//a[@class='_1LKTO3']\")\n",
    "if next_btn.text=='NEXT':\n",
    "            next_btn.click()\n"
   ]
  },
  {
   "cell_type": "code",
   "execution_count": 269,
   "metadata": {},
   "outputs": [],
   "source": [
    "#extracting reviews info from 4th page\n",
    "Page4rating=driver.find_elements_by_xpath(\"//div[@class='_3LWZlK _1BLPMq']\")\n",
    "Page4rvw=driver.find_elements_by_xpath(\"//p[@class='_2-N8zT']\")\n",
    "Page4FRvw=driver.find_elements_by_xpath(\"//div[@class='t-ZTKy']\")\n"
   ]
  },
  {
   "cell_type": "code",
   "execution_count": 270,
   "metadata": {},
   "outputs": [],
   "source": [
    "for i in range(10):\n",
    "    Rating.append(Page4rating[i].text)\n",
    "    Review_Summary.append(Page4rvw[i].text)\n",
    "    Full_Review.append(Page4FRvw[i].text.replace(\"\\n\",\"\"))"
   ]
  },
  {
   "cell_type": "code",
   "execution_count": 273,
   "metadata": {},
   "outputs": [],
   "source": [
    "#clicking Next button through code.\n",
    "next_btn=driver.find_element_by_xpath(\"//a[@class='_1LKTO3']\")\n",
    "if next_btn.text=='NEXT':\n",
    "            next_btn.click()\n"
   ]
  },
  {
   "cell_type": "code",
   "execution_count": 274,
   "metadata": {},
   "outputs": [],
   "source": [
    "#extracting reviews info from 5th page\n",
    "Page5rating=driver.find_elements_by_xpath(\"//div[@class='_3LWZlK _1BLPMq']\")\n",
    "Page5rvw=driver.find_elements_by_xpath(\"//p[@class='_2-N8zT']\")\n",
    "Page5FRvw=driver.find_elements_by_xpath(\"//div[@class='t-ZTKy']\")\n"
   ]
  },
  {
   "cell_type": "code",
   "execution_count": 275,
   "metadata": {},
   "outputs": [],
   "source": [
    "for i in range(10):\n",
    "    Rating.append(Page5rating[i].text)\n",
    "    Review_Summary.append(Page5rvw[i].text)\n",
    "    Full_Review.append(Page5FRvw[i].text.replace(\"\\n\",\"\"))"
   ]
  },
  {
   "cell_type": "code",
   "execution_count": 276,
   "metadata": {},
   "outputs": [],
   "source": [
    "#going to next page by clicking Next button through code.\n",
    "next_btn=driver.find_element_by_xpath(\"//a[@class='_1LKTO3']\")\n",
    "if next_btn.text=='NEXT':\n",
    "            next_btn.click()\n"
   ]
  },
  {
   "cell_type": "code",
   "execution_count": 277,
   "metadata": {},
   "outputs": [],
   "source": [
    "#extracting reviews info from 6th page\n",
    "Page6rating=driver.find_elements_by_xpath(\"//div[@class='_3LWZlK _1BLPMq']\")\n",
    "Page6rvw=driver.find_elements_by_xpath(\"//p[@class='_2-N8zT']\")\n",
    "Page6FRvw=driver.find_elements_by_xpath(\"//div[@class='t-ZTKy']\")\n"
   ]
  },
  {
   "cell_type": "code",
   "execution_count": 278,
   "metadata": {},
   "outputs": [],
   "source": [
    "for i in range(10):   \n",
    "    Rating.append(Page6rating[i].text)\n",
    "    Review_Summary.append(Page6rvw[i].text)\n",
    "    Full_Review.append(Page6FRvw[i].text.replace(\"\\n\",\"\"))"
   ]
  },
  {
   "cell_type": "code",
   "execution_count": 279,
   "metadata": {},
   "outputs": [],
   "source": [
    "#going to next page by clicking Next button through code.\n",
    "next_btn=driver.find_element_by_xpath(\"//a[@class='_1LKTO3']\")\n",
    "if next_btn.text=='NEXT':\n",
    "            next_btn.click()\n"
   ]
  },
  {
   "cell_type": "code",
   "execution_count": 280,
   "metadata": {},
   "outputs": [],
   "source": [
    "#extracting reviews info from 7th page\n",
    "Page7rating=driver.find_elements_by_xpath(\"//div[@class='_3LWZlK _1BLPMq']\")\n",
    "Page7rvw=driver.find_elements_by_xpath(\"//p[@class='_2-N8zT']\")\n",
    "Page7FRvw=driver.find_elements_by_xpath(\"//div[@class='t-ZTKy']\")\n"
   ]
  },
  {
   "cell_type": "code",
   "execution_count": 281,
   "metadata": {},
   "outputs": [],
   "source": [
    "for i in range(10):  \n",
    "    Rating.append(Page7rating[i].text)\n",
    "    Review_Summary.append(Page7rvw[i].text)\n",
    "    Full_Review.append(Page7FRvw[i].text.replace(\"\\n\",\"\"))\n"
   ]
  },
  {
   "cell_type": "code",
   "execution_count": 282,
   "metadata": {},
   "outputs": [],
   "source": [
    "#going to next page by clicking Next button through code.\n",
    "next_btn=driver.find_element_by_xpath(\"//a[@class='_1LKTO3']\")\n",
    "if next_btn.text=='NEXT':\n",
    "            next_btn.click()\n"
   ]
  },
  {
   "cell_type": "code",
   "execution_count": 283,
   "metadata": {},
   "outputs": [],
   "source": [
    "#extracting reviews info from 8th page\n",
    "Page8rating=driver.find_elements_by_xpath(\"//div[@class='_3LWZlK _1BLPMq']\")\n",
    "Page8rvw=driver.find_elements_by_xpath(\"//p[@class='_2-N8zT']\")\n",
    "Page8FRvw=driver.find_elements_by_xpath(\"//div[@class='t-ZTKy']\")\n"
   ]
  },
  {
   "cell_type": "code",
   "execution_count": 284,
   "metadata": {},
   "outputs": [],
   "source": [
    "for i in range(10):  \n",
    "    Rating.append(Page8rating[i].text)\n",
    "    Review_Summary.append(Page8rvw[i].text)\n",
    "    Full_Review.append(Page8FRvw[i].text.replace(\"\\n\",\"\"))"
   ]
  },
  {
   "cell_type": "code",
   "execution_count": 285,
   "metadata": {},
   "outputs": [],
   "source": [
    "#going to next page by clicking Next button through code.\n",
    "next_btn=driver.find_element_by_xpath(\"//a[@class='_1LKTO3']\")\n",
    "if next_btn.text=='NEXT':\n",
    "            next_btn.click()\n"
   ]
  },
  {
   "cell_type": "code",
   "execution_count": 286,
   "metadata": {},
   "outputs": [],
   "source": [
    "#extracting reviews info from 8th page\n",
    "Page9rating=driver.find_elements_by_xpath(\"//div[@class='_3LWZlK _1BLPMq']\")\n",
    "Page9rvw=driver.find_elements_by_xpath(\"//p[@class='_2-N8zT']\")\n",
    "Page9FRvw=driver.find_elements_by_xpath(\"//div[@class='t-ZTKy']\")\n"
   ]
  },
  {
   "cell_type": "code",
   "execution_count": 287,
   "metadata": {},
   "outputs": [],
   "source": [
    "for i in range(10):  \n",
    "    Rating.append(Page9rating[i].text)\n",
    "    Review_Summary.append(Page9rvw[i].text)\n",
    "    Full_Review.append(Page9FRvw[i].text.replace(\"\\n\",\"\"))"
   ]
  },
  {
   "cell_type": "code",
   "execution_count": 288,
   "metadata": {},
   "outputs": [],
   "source": [
    "#going to next page by clicking Next button through code.\n",
    "next_btn=driver.find_element_by_xpath(\"//a[@class='_1LKTO3']\")\n",
    "if next_btn.text=='NEXT':\n",
    "            next_btn.click()\n"
   ]
  },
  {
   "cell_type": "code",
   "execution_count": 289,
   "metadata": {},
   "outputs": [],
   "source": [
    "#extracting reviews info from 8th page\n",
    "Page10rating=driver.find_elements_by_xpath(\"//div[@class='_3LWZlK _1BLPMq']\")\n",
    "Page10rvw=driver.find_elements_by_xpath(\"//p[@class='_2-N8zT']\")\n",
    "Page10FRvw=driver.find_elements_by_xpath(\"//div[@class='t-ZTKy']\")\n"
   ]
  },
  {
   "cell_type": "code",
   "execution_count": 290,
   "metadata": {},
   "outputs": [],
   "source": [
    "for i in range(10):\n",
    "    Rating.append(Page10rating[i].text)\n",
    "    Review_Summary.append(Page10rvw[i].text)\n",
    "    Full_Review.append(Page10FRvw[i].text.replace(\"\\n\",\"\"))"
   ]
  },
  {
   "cell_type": "code",
   "execution_count": 291,
   "metadata": {},
   "outputs": [],
   "source": [
    "Iphone100Reviews_df=pd.DataFrame({\n",
    "                                  'Rating':Rating,\n",
    "                                  'Review Summary':Review_Summary,\n",
    "                                  'Full Review':Full_Review\n",
    "}\n",
    ")\n",
    "    \n"
   ]
  },
  {
   "cell_type": "code",
   "execution_count": 292,
   "metadata": {},
   "outputs": [
    {
     "data": {
      "text/html": [
       "<div>\n",
       "<style scoped>\n",
       "    .dataframe tbody tr th:only-of-type {\n",
       "        vertical-align: middle;\n",
       "    }\n",
       "\n",
       "    .dataframe tbody tr th {\n",
       "        vertical-align: top;\n",
       "    }\n",
       "\n",
       "    .dataframe thead th {\n",
       "        text-align: right;\n",
       "    }\n",
       "</style>\n",
       "<table border=\"1\" class=\"dataframe\">\n",
       "  <thead>\n",
       "    <tr style=\"text-align: right;\">\n",
       "      <th></th>\n",
       "      <th>Rating</th>\n",
       "      <th>Review Summary</th>\n",
       "      <th>Full Review</th>\n",
       "    </tr>\n",
       "  </thead>\n",
       "  <tbody>\n",
       "    <tr>\n",
       "      <th>0</th>\n",
       "      <td>5</td>\n",
       "      <td>Brilliant</td>\n",
       "      <td>The Best Phone for the MoneyThe iPhone 11 offe...</td>\n",
       "    </tr>\n",
       "    <tr>\n",
       "      <th>1</th>\n",
       "      <td>5</td>\n",
       "      <td>Perfect product!</td>\n",
       "      <td>Amazing phone with great cameras and better ba...</td>\n",
       "    </tr>\n",
       "    <tr>\n",
       "      <th>2</th>\n",
       "      <td>5</td>\n",
       "      <td>Great product</td>\n",
       "      <td>Amazing Powerful and Durable Gadget.I’m am ver...</td>\n",
       "    </tr>\n",
       "    <tr>\n",
       "      <th>3</th>\n",
       "      <td>5</td>\n",
       "      <td>Worth every penny</td>\n",
       "      <td>Previously I was using one plus 3t it was a gr...</td>\n",
       "    </tr>\n",
       "    <tr>\n",
       "      <th>4</th>\n",
       "      <td>5</td>\n",
       "      <td>Highly recommended</td>\n",
       "      <td>iphone 11 is a very good phone to buy only if ...</td>\n",
       "    </tr>\n",
       "    <tr>\n",
       "      <th>...</th>\n",
       "      <td>...</td>\n",
       "      <td>...</td>\n",
       "      <td>...</td>\n",
       "    </tr>\n",
       "    <tr>\n",
       "      <th>95</th>\n",
       "      <td>5</td>\n",
       "      <td>Brilliant</td>\n",
       "      <td>I have migrated from OP 7pro... and trust me, ...</td>\n",
       "    </tr>\n",
       "    <tr>\n",
       "      <th>96</th>\n",
       "      <td>5</td>\n",
       "      <td>Must buy!</td>\n",
       "      <td>It’s an amazing product from apple and the cam...</td>\n",
       "    </tr>\n",
       "    <tr>\n",
       "      <th>97</th>\n",
       "      <td>5</td>\n",
       "      <td>Terrific purchase</td>\n",
       "      <td>Upgraded from iphone 6 to 11 best phone for ip...</td>\n",
       "    </tr>\n",
       "    <tr>\n",
       "      <th>98</th>\n",
       "      <td>5</td>\n",
       "      <td>Wonderful</td>\n",
       "      <td>This is my first ever I phone. Before this I w...</td>\n",
       "    </tr>\n",
       "    <tr>\n",
       "      <th>99</th>\n",
       "      <td>5</td>\n",
       "      <td>Mind-blowing purchase</td>\n",
       "      <td>This will help you more. See if you are planni...</td>\n",
       "    </tr>\n",
       "  </tbody>\n",
       "</table>\n",
       "<p>100 rows × 3 columns</p>\n",
       "</div>"
      ],
      "text/plain": [
       "   Rating         Review Summary  \\\n",
       "0       5              Brilliant   \n",
       "1       5       Perfect product!   \n",
       "2       5          Great product   \n",
       "3       5      Worth every penny   \n",
       "4       5     Highly recommended   \n",
       "..    ...                    ...   \n",
       "95      5              Brilliant   \n",
       "96      5              Must buy!   \n",
       "97      5      Terrific purchase   \n",
       "98      5              Wonderful   \n",
       "99      5  Mind-blowing purchase   \n",
       "\n",
       "                                          Full Review  \n",
       "0   The Best Phone for the MoneyThe iPhone 11 offe...  \n",
       "1   Amazing phone with great cameras and better ba...  \n",
       "2   Amazing Powerful and Durable Gadget.I’m am ver...  \n",
       "3   Previously I was using one plus 3t it was a gr...  \n",
       "4   iphone 11 is a very good phone to buy only if ...  \n",
       "..                                                ...  \n",
       "95  I have migrated from OP 7pro... and trust me, ...  \n",
       "96  It’s an amazing product from apple and the cam...  \n",
       "97  Upgraded from iphone 6 to 11 best phone for ip...  \n",
       "98  This is my first ever I phone. Before this I w...  \n",
       "99  This will help you more. See if you are planni...  \n",
       "\n",
       "[100 rows x 3 columns]"
      ]
     },
     "execution_count": 292,
     "metadata": {},
     "output_type": "execute_result"
    }
   ],
   "source": [
    "Iphone100Reviews_df"
   ]
  },
  {
   "cell_type": "code",
   "execution_count": 293,
   "metadata": {},
   "outputs": [],
   "source": [
    "#closing driver\n",
    "driver.close()"
   ]
  },
  {
   "cell_type": "markdown",
   "metadata": {},
   "source": [
    "# TASK 8"
   ]
  },
  {
   "cell_type": "code",
   "execution_count": 325,
   "metadata": {},
   "outputs": [],
   "source": [
    "#working\n",
    "#creating driver object\n",
    "\n",
    "driver=webdriver.Chrome(r\"C:/chromedriver.exe\")\n",
    "driver.get(\"https://www.flipkart.com\")"
   ]
  },
  {
   "cell_type": "code",
   "execution_count": 326,
   "metadata": {},
   "outputs": [],
   "source": [
    "#Searching for Sneakers\n",
    "Search=driver.find_element_by_xpath(\"//input[@title='Search for products, brands and more']\")\n",
    "Search.send_keys(\"sneakers\")"
   ]
  },
  {
   "cell_type": "code",
   "execution_count": 327,
   "metadata": {},
   "outputs": [],
   "source": [
    "#clicking search button through code.\n",
    "search_btn=driver.find_element_by_xpath(\"//button[@type='submit']\")\n",
    "search_btn.click()\n"
   ]
  },
  {
   "cell_type": "code",
   "execution_count": 328,
   "metadata": {},
   "outputs": [],
   "source": [
    "sneakersPage1=driver.find_elements_by_xpath(\"//div[@class='_2B099V']\")\n",
    "\n"
   ]
  },
  {
   "cell_type": "code",
   "execution_count": 329,
   "metadata": {},
   "outputs": [
    {
     "data": {
      "text/plain": [
       "'Fzzirok\\nPremium quality Sneakers For Men\\n₹399₹99960% off\\nSize 6, 7, 8, 9, 10'"
      ]
     },
     "execution_count": 329,
     "metadata": {},
     "output_type": "execute_result"
    }
   ],
   "source": [
    "sneakersPage1[0].text"
   ]
  },
  {
   "cell_type": "code",
   "execution_count": 330,
   "metadata": {},
   "outputs": [],
   "source": [
    "for i in range(40):\n",
    "    sneakersPage1[i]=sneakersPage1[i].text"
   ]
  },
  {
   "cell_type": "code",
   "execution_count": 331,
   "metadata": {},
   "outputs": [],
   "source": [
    "#navigating to next page\n",
    "next_btn=driver.find_element_by_xpath(\"//a[@class='_1LKTO3']\")\n",
    "if next_btn.text=='NEXT':\n",
    "               next_btn.click()"
   ]
  },
  {
   "cell_type": "code",
   "execution_count": 332,
   "metadata": {},
   "outputs": [],
   "source": [
    "sneakersPage2=driver.find_elements_by_xpath(\"//div[@class='_2B099V']\")\n",
    "\n",
    "\n"
   ]
  },
  {
   "cell_type": "code",
   "execution_count": 333,
   "metadata": {},
   "outputs": [
    {
     "data": {
      "text/plain": [
       "'Chevit\\n516 Trendy Star Perfect Sneakers For Men\\n₹319₹79960% off'"
      ]
     },
     "execution_count": 333,
     "metadata": {},
     "output_type": "execute_result"
    }
   ],
   "source": [
    "sneakersPage2[0].text"
   ]
  },
  {
   "cell_type": "code",
   "execution_count": 334,
   "metadata": {},
   "outputs": [],
   "source": [
    "for i in range(40):\n",
    "    sneakersPage2[i]=sneakersPage2[i].text"
   ]
  },
  {
   "cell_type": "code",
   "execution_count": 335,
   "metadata": {},
   "outputs": [],
   "source": [
    "#navigating to 3rd page\n",
    "next_btn=driver.find_element_by_xpath(\"//a[@class='_1LKTO3']\")\n",
    "if next_btn.text=='NEXT':\n",
    "               next_btn.click()"
   ]
  },
  {
   "cell_type": "code",
   "execution_count": 336,
   "metadata": {},
   "outputs": [],
   "source": [
    "sneakersPage3=driver.find_elements_by_xpath(\"//div[@class='_2B099V']\")\n"
   ]
  },
  {
   "cell_type": "code",
   "execution_count": 337,
   "metadata": {},
   "outputs": [],
   "source": [
    "for i in range(40):\n",
    "    sneakersPage3[i]=sneakersPage3[i].text\n"
   ]
  },
  {
   "cell_type": "code",
   "execution_count": 338,
   "metadata": {},
   "outputs": [],
   "source": [
    "SneakersInfo=sneakersPage1+sneakersPage2+sneakersPage3"
   ]
  },
  {
   "cell_type": "code",
   "execution_count": 341,
   "metadata": {},
   "outputs": [
    {
     "data": {
      "text/plain": [
       "['Fzzirok\\nPremium quality Sneakers For Men\\n₹399₹99960% off\\nSize 6, 7, 8, 9, 10',\n",
       " 'PROVOGUE\\nSneakers For Men\\n₹649₹1,99967% off\\nBuy 2 items, save extra 5%',\n",
       " 'Chevit\\nPerfect & Affordable Combo Pack of 02 Pairs Sneakers Ou...\\n₹499₹1,79872% off\\nSize 6, 7, 8, 9, 10',\n",
       " 'Chevit\\nCombo Pack of 4 Casual Sneakers With Sneakers For Men\\n₹474₹1,99676% off',\n",
       " 'Robbie jones\\nCasual Sneakers Shoes For Men Sneakers For Men\\n₹379₹99962% off',\n",
       " 'ORICUM\\nCombo pack of 2 casual sneaker shoes for men Sneakers F...\\n₹398₹99860% off',\n",
       " 'aadi\\nSneakers For Men\\n₹299₹99970% off',\n",
       " 'Robbie jones\\nSneakers For Men\\n₹499₹99950% off',\n",
       " '\"trend\"\\nFashionable casual sneakers shoes for men Sneakers For ...\\n₹479₹3,99988% off',\n",
       " 'Stefano Rads\\nClassy Sneakers For Men\\n₹242₹69965% off',\n",
       " \"Shoes Bank\\nWhite Sneaker For Men's/Boy's Sneakers For Men\\n₹349₹99965% off\",\n",
       " 'Red Rose\\nSneakers For Men\\n₹359₹99964% off',\n",
       " 'Chevit\\n171 Smart Tan Lace-Ups Casuals for Men Sneakers For Men\\n₹211₹49957% off',\n",
       " 'oxpeo\\nColourblocked Trending Multicolor Ultralight canvas Spo...\\n₹419₹99958% off',\n",
       " 'HOTSTYLE\\nSneakers For Men\\n₹199₹49960% off',\n",
       " 'Echor\\nshoes for boys Sneakers For Men\\n₹570₹99942% off',\n",
       " 'HOTSTYLE\\nSneakers Sneakers For Men\\n₹283₹49943% off',\n",
       " 'Numenzo\\nSneakers For Men\\n₹649₹99935% off',\n",
       " 'believe\\nSneakers for men(black_6) Sneakers For Men\\n₹446₹99955% off',\n",
       " 'bluemaker\\ncasual for men (blue 08) Sneakers For Men\\n₹499₹99950% off',\n",
       " 'India hub\\nFashionable casual sneakers shoes Sneakers For Men\\n₹699₹1,99965% off',\n",
       " \"Birde\\nMen's Stylish Casual Shoes Sneakers For Men\\n₹299₹49940% off\",\n",
       " \"restinfoot\\nCasual shoes,Sneakers for men's,shoes for men's Sneaker...\\n₹360₹99963% off\",\n",
       " 'DUCATI\\nSneakers For Men\\n₹1,449₹3,59959% off\\nBuy 2 items, save extra 5%',\n",
       " 'Red Rose\\nSneakers For Men\\n₹359₹49928% off',\n",
       " 'Chevit\\n168 Smart Red Lace-Ups Casuals for Men Sneakers For Men\\n₹211₹49957% off',\n",
       " 'SPARX\\nSM-322 Sneakers For Men\\n₹769₹99923% off',\n",
       " 'Magnolia\\nWhite Sneakers Sneakers For Men\\n₹341₹99965% off',\n",
       " 'T-ROCK\\nSynthetic Leather Casual Partywear Wedding Sneakers Sho...\\n₹366₹99963% off',\n",
       " 'Kizaar\\nFashionable Casual, Canvas,official or Partywear Sneake...\\n₹399₹99960% off\\nBuy 2 items, save extra 5%',\n",
       " 'ROCKFIELD\\nSneakers For Men\\n₹341₹99965% off',\n",
       " 'Robbie jones\\nCasual Sneakers Shoes For Men Sneakers For Men\\n₹499₹99950% off',\n",
       " 'Imcolus\\nSneakers For Men\\n₹464₹99953% off',\n",
       " 'Chevit\\nSpeed Set of 5 Pairs Sneakers Outdoors Casuals for Men ...\\n₹759₹2,49569% off',\n",
       " 'VORII\\nLatest Stylish Casual sneakers for men | Lace up lightw...\\n₹399₹99960% off',\n",
       " 'Echor\\nHHM Sneakers For Men\\n₹570₹99942% off',\n",
       " 'SCATCHITE\\nSneakers Sneakers For Men\\n₹398₹99960% off',\n",
       " 'TR\\nSneakers For Men\\n₹569₹1,99971% off',\n",
       " 'Chevit\\nSmart Casuals Canvas Shoes Combo pack of 2 Sneakers For...\\n₹322₹99867% off',\n",
       " 'DUCATI\\nSneakers For Men\\n₹1,449₹3,59959% off',\n",
       " 'Chevit\\n516 Trendy Star Perfect Sneakers For Men\\n₹319₹79960% off',\n",
       " 'Zsyto\\nSneakers For Men\\n₹298₹1,29977% off',\n",
       " 'Edoeviv\\nSneakers For Men  (White 8) Sneakers For Men\\n₹464₹79941% off',\n",
       " 'Fzzirok\\nPremium quality Sneakers For Men\\n₹399₹99960% off',\n",
       " 'Jabra\\nSneakers For Men\\n₹455₹99954% off',\n",
       " 'bluemaker\\ncasual for men (blue 06) Sneakers For Men\\n₹499₹99950% off',\n",
       " \"D-SNEAKERZ\\nCasual , Partywear Sneakers Shoes For Men's And Boys Wh...\\n₹367₹65944% off\",\n",
       " '\"trend\"\\nCasual sneakers shoes for men Sneakers For Men\\n₹479₹3,99988% off',\n",
       " 'Chevit\\n170 Smart Grey Lace-Ups Casuals for Men Sneakers For Me...\\n₹211₹49957% off',\n",
       " 'French Connection\\nSneakers For Men\\n₹799₹1,99960% off\\nBuy 2 items, save extra 5%',\n",
       " 'HOTSTYLE\\nSneakers Sneakers For Men\\n₹283₹49943% off',\n",
       " 'World Wear Footwear\\n5011-Latest Collection Stylish Casual Loafer Sneakers S...\\n₹240₹49951% off',\n",
       " 'TR\\nSneakers For Men\\n₹312₹99968% off',\n",
       " 'PROVOGUE\\nSneakers For Men\\n₹649₹1,99967% off\\nBuy 2 items, save extra 5%',\n",
       " 'Fzzirok\\nPremium quality Sneakers For Men\\n₹399₹99960% off',\n",
       " 'ASTEROID\\nFeather Print New Spring Season White Shoes Men Running...\\n₹346₹99965% off',\n",
       " 'Extoes\\nModern Trendy Shoes Combo pack of 4 Sneakers For Men\\n₹798₹1,49746% off',\n",
       " 'Wika\\nSneakers For Men\\n₹449₹99955% off',\n",
       " 'Axter\\nCombo Pack of 2 Casual Loafer Sneakers Shoes Sneakers F...\\n₹379₹99862% off',\n",
       " 'oxpeo\\nColourblocked Trending Multicolor Ultralight canvas Spo...\\n₹419₹99958% off',\n",
       " 'Chevit\\nSuper 445 Fashion Sneakers For Men\\n₹348₹49930% off',\n",
       " 'ROCKFIELD\\nSneakers For Men\\n₹341₹99965% off',\n",
       " 'Chevit\\nSpeed Set of 5 Pairs Sneakers Outdoors Casuals for Men ...\\n₹759₹2,49569% off',\n",
       " 'DUCATI\\nSneakers For Men\\n₹1,449₹3,59959% off\\nBuy 2 items, save extra 5%',\n",
       " 'World Wear Footwear\\nCombo Pack of 4 Latest Collection Stylish Casual Loafer...\\n₹474₹1,99676% off',\n",
       " 'Kraasa\\nCasuals, Canvas, Partywear Sneakers For Men\\n₹471₹99952% off',\n",
       " 'Axter\\nCombo Pack of 2 Latest Collection Stylish Casual Loafer...\\n₹299₹99870% off',\n",
       " 'Zorth\\nSneakers For Men\\n₹612₹99938% off',\n",
       " 'SWIGGY\\nCasual Loafers, Sneakers Shoes for Men Pack of 5 Combo(...\\n₹759₹2,49569% off',\n",
       " 'bluemaker\\ncasual for men (blue 08) Sneakers For Men\\n₹499₹99950% off',\n",
       " 'well feet\\nsneaker for mens and boys Sneakers For Men\\n₹399₹59933% off',\n",
       " 'Numenzo\\nCasual Sneaker Sneakers For Men\\n₹539₹99946% off',\n",
       " 'LEATHERKRAFT\\nSneakers For Men\\n₹299₹99970% off',\n",
       " 'PROVOGUE\\nPRO-NP-AW08 Sneakers For Men\\n₹599₹2,09971% off\\nBuy 2 items, save extra 5%',\n",
       " 'SHOEFLY\\nCombo Men Pack of 2 Loafers Shoes Sneakers For Men\\n₹299₹99870% off',\n",
       " 'Chevit\\n169 Smart Sky Blue Lace-Ups Casuals for Men Sneakers Fo...\\n₹211₹49957% off',\n",
       " 'ESSENCE\\n7 Lace Sneakers For Men\\n₹424₹99957% off',\n",
       " 'SHOEFLY\\nCombo Men Pack of 2 Loafers Shoes Sneakers For Men\\n₹343₹99865% off',\n",
       " 'Bonexy\\nSneakers For Men\\n₹383₹99961% off',\n",
       " 'DUCATI\\nSneakers For Men\\n₹1,449₹3,59959% off',\n",
       " 'Chevit\\n516 Trendy Star Perfect Sneakers For Men\\n₹319₹79960% off',\n",
       " 'Zsyto\\nSneakers For Men\\n₹298₹1,29977% off',\n",
       " 'Edoeviv\\nSneakers For Men  (White 8) Sneakers For Men\\n₹464₹79941% off',\n",
       " 'Fzzirok\\nPremium quality Sneakers For Men\\n₹399₹99960% off',\n",
       " 'Jabra\\nSneakers For Men\\n₹455₹99954% off',\n",
       " 'bluemaker\\ncasual for men (blue 06) Sneakers For Men\\n₹499₹99950% off',\n",
       " \"D-SNEAKERZ\\nCasual , Partywear Sneakers Shoes For Men's And Boys Wh...\\n₹367₹65944% off\",\n",
       " '\"trend\"\\nCasual sneakers shoes for men Sneakers For Men\\n₹479₹3,99988% off',\n",
       " 'Chevit\\n170 Smart Grey Lace-Ups Casuals for Men Sneakers For Me...\\n₹211₹49957% off',\n",
       " 'French Connection\\nSneakers For Men\\n₹799₹1,99960% off\\nBuy 2 items, save extra 5%',\n",
       " 'HOTSTYLE\\nSneakers Sneakers For Men\\n₹283₹49943% off',\n",
       " 'World Wear Footwear\\n5011-Latest Collection Stylish Casual Loafer Sneakers S...\\n₹240₹49951% off',\n",
       " 'TR\\nSneakers For Men\\n₹312₹99968% off',\n",
       " 'PROVOGUE\\nSneakers For Men\\n₹649₹1,99967% off\\nBuy 2 items, save extra 5%',\n",
       " 'Fzzirok\\nPremium quality Sneakers For Men\\n₹399₹99960% off',\n",
       " 'ASTEROID\\nFeather Print New Spring Season White Shoes Men Running...\\n₹346₹99965% off',\n",
       " 'Extoes\\nModern Trendy Shoes Combo pack of 4 Sneakers For Men\\n₹798₹1,49746% off',\n",
       " 'Wika\\nSneakers For Men\\n₹449₹99955% off',\n",
       " 'Axter\\nCombo Pack of 2 Casual Loafer Sneakers Shoes Sneakers F...\\n₹379₹99862% off',\n",
       " 'oxpeo\\nColourblocked Trending Multicolor Ultralight canvas Spo...\\n₹419₹99958% off',\n",
       " 'Chevit\\nSuper 445 Fashion Sneakers For Men\\n₹348₹49930% off',\n",
       " 'ROCKFIELD\\nSneakers For Men\\n₹341₹99965% off',\n",
       " 'Chevit\\nSpeed Set of 5 Pairs Sneakers Outdoors Casuals for Men ...\\n₹759₹2,49569% off',\n",
       " 'DUCATI\\nSneakers For Men\\n₹1,449₹3,59959% off\\nBuy 2 items, save extra 5%',\n",
       " 'World Wear Footwear\\nCombo Pack of 4 Latest Collection Stylish Casual Loafer...\\n₹474₹1,99676% off',\n",
       " 'Kraasa\\nCasuals, Canvas, Partywear Sneakers For Men\\n₹471₹99952% off',\n",
       " 'Axter\\nCombo Pack of 2 Latest Collection Stylish Casual Loafer...\\n₹299₹99870% off',\n",
       " 'Zorth\\nSneakers For Men\\n₹612₹99938% off',\n",
       " 'SWIGGY\\nCasual Loafers, Sneakers Shoes for Men Pack of 5 Combo(...\\n₹759₹2,49569% off',\n",
       " 'bluemaker\\ncasual for men (blue 08) Sneakers For Men\\n₹499₹99950% off',\n",
       " 'well feet\\nsneaker for mens and boys Sneakers For Men\\n₹399₹59933% off',\n",
       " 'Numenzo\\nCasual Sneaker Sneakers For Men\\n₹539₹99946% off',\n",
       " 'LEATHERKRAFT\\nSneakers For Men\\n₹299₹99970% off',\n",
       " 'PROVOGUE\\nPRO-NP-AW08 Sneakers For Men\\n₹599₹2,09971% off\\nBuy 2 items, save extra 5%',\n",
       " 'SHOEFLY\\nCombo Men Pack of 2 Loafers Shoes Sneakers For Men\\n₹299₹99870% off',\n",
       " 'Chevit\\n169 Smart Sky Blue Lace-Ups Casuals for Men Sneakers Fo...\\n₹211₹49957% off',\n",
       " 'ESSENCE\\n7 Lace Sneakers For Men\\n₹424₹99957% off',\n",
       " 'SHOEFLY\\nCombo Men Pack of 2 Loafers Shoes Sneakers For Men\\n₹343₹99865% off',\n",
       " 'Bonexy\\nSneakers For Men\\n₹383₹99961% off',\n",
       " 'DUCATI\\nSneakers For Men\\n₹1,449₹3,59959% off']"
      ]
     },
     "execution_count": 341,
     "metadata": {},
     "output_type": "execute_result"
    }
   ],
   "source": [
    "SneakersInfo"
   ]
  },
  {
   "cell_type": "code",
   "execution_count": 342,
   "metadata": {},
   "outputs": [],
   "source": [
    "Sneakers_df=pd.DataFrame(SneakersInfo[i].split(\"\\n\") for i in range(100))"
   ]
  },
  {
   "cell_type": "code",
   "execution_count": 343,
   "metadata": {},
   "outputs": [
    {
     "data": {
      "text/html": [
       "<div>\n",
       "<style scoped>\n",
       "    .dataframe tbody tr th:only-of-type {\n",
       "        vertical-align: middle;\n",
       "    }\n",
       "\n",
       "    .dataframe tbody tr th {\n",
       "        vertical-align: top;\n",
       "    }\n",
       "\n",
       "    .dataframe thead th {\n",
       "        text-align: right;\n",
       "    }\n",
       "</style>\n",
       "<table border=\"1\" class=\"dataframe\">\n",
       "  <thead>\n",
       "    <tr style=\"text-align: right;\">\n",
       "      <th></th>\n",
       "      <th>0</th>\n",
       "      <th>1</th>\n",
       "      <th>2</th>\n",
       "      <th>3</th>\n",
       "    </tr>\n",
       "  </thead>\n",
       "  <tbody>\n",
       "    <tr>\n",
       "      <th>0</th>\n",
       "      <td>Fzzirok</td>\n",
       "      <td>Premium quality Sneakers For Men</td>\n",
       "      <td>₹399₹99960% off</td>\n",
       "      <td>Size 6, 7, 8, 9, 10</td>\n",
       "    </tr>\n",
       "    <tr>\n",
       "      <th>1</th>\n",
       "      <td>PROVOGUE</td>\n",
       "      <td>Sneakers For Men</td>\n",
       "      <td>₹649₹1,99967% off</td>\n",
       "      <td>Buy 2 items, save extra 5%</td>\n",
       "    </tr>\n",
       "    <tr>\n",
       "      <th>2</th>\n",
       "      <td>Chevit</td>\n",
       "      <td>Perfect &amp; Affordable Combo Pack of 02 Pairs Sn...</td>\n",
       "      <td>₹499₹1,79872% off</td>\n",
       "      <td>Size 6, 7, 8, 9, 10</td>\n",
       "    </tr>\n",
       "    <tr>\n",
       "      <th>3</th>\n",
       "      <td>Chevit</td>\n",
       "      <td>Combo Pack of 4 Casual Sneakers With Sneakers ...</td>\n",
       "      <td>₹474₹1,99676% off</td>\n",
       "      <td>None</td>\n",
       "    </tr>\n",
       "    <tr>\n",
       "      <th>4</th>\n",
       "      <td>Robbie jones</td>\n",
       "      <td>Casual Sneakers Shoes For Men Sneakers For Men</td>\n",
       "      <td>₹379₹99962% off</td>\n",
       "      <td>None</td>\n",
       "    </tr>\n",
       "    <tr>\n",
       "      <th>...</th>\n",
       "      <td>...</td>\n",
       "      <td>...</td>\n",
       "      <td>...</td>\n",
       "      <td>...</td>\n",
       "    </tr>\n",
       "    <tr>\n",
       "      <th>95</th>\n",
       "      <td>ASTEROID</td>\n",
       "      <td>Feather Print New Spring Season White Shoes Me...</td>\n",
       "      <td>₹346₹99965% off</td>\n",
       "      <td>None</td>\n",
       "    </tr>\n",
       "    <tr>\n",
       "      <th>96</th>\n",
       "      <td>Extoes</td>\n",
       "      <td>Modern Trendy Shoes Combo pack of 4 Sneakers F...</td>\n",
       "      <td>₹798₹1,49746% off</td>\n",
       "      <td>None</td>\n",
       "    </tr>\n",
       "    <tr>\n",
       "      <th>97</th>\n",
       "      <td>Wika</td>\n",
       "      <td>Sneakers For Men</td>\n",
       "      <td>₹449₹99955% off</td>\n",
       "      <td>None</td>\n",
       "    </tr>\n",
       "    <tr>\n",
       "      <th>98</th>\n",
       "      <td>Axter</td>\n",
       "      <td>Combo Pack of 2 Casual Loafer Sneakers Shoes S...</td>\n",
       "      <td>₹379₹99862% off</td>\n",
       "      <td>None</td>\n",
       "    </tr>\n",
       "    <tr>\n",
       "      <th>99</th>\n",
       "      <td>oxpeo</td>\n",
       "      <td>Colourblocked Trending Multicolor Ultralight c...</td>\n",
       "      <td>₹419₹99958% off</td>\n",
       "      <td>None</td>\n",
       "    </tr>\n",
       "  </tbody>\n",
       "</table>\n",
       "<p>100 rows × 4 columns</p>\n",
       "</div>"
      ],
      "text/plain": [
       "               0                                                  1  \\\n",
       "0        Fzzirok                   Premium quality Sneakers For Men   \n",
       "1       PROVOGUE                                   Sneakers For Men   \n",
       "2         Chevit  Perfect & Affordable Combo Pack of 02 Pairs Sn...   \n",
       "3         Chevit  Combo Pack of 4 Casual Sneakers With Sneakers ...   \n",
       "4   Robbie jones     Casual Sneakers Shoes For Men Sneakers For Men   \n",
       "..           ...                                                ...   \n",
       "95      ASTEROID  Feather Print New Spring Season White Shoes Me...   \n",
       "96        Extoes  Modern Trendy Shoes Combo pack of 4 Sneakers F...   \n",
       "97          Wika                                   Sneakers For Men   \n",
       "98         Axter  Combo Pack of 2 Casual Loafer Sneakers Shoes S...   \n",
       "99         oxpeo  Colourblocked Trending Multicolor Ultralight c...   \n",
       "\n",
       "                    2                           3  \n",
       "0     ₹399₹99960% off         Size 6, 7, 8, 9, 10  \n",
       "1   ₹649₹1,99967% off  Buy 2 items, save extra 5%  \n",
       "2   ₹499₹1,79872% off         Size 6, 7, 8, 9, 10  \n",
       "3   ₹474₹1,99676% off                        None  \n",
       "4     ₹379₹99962% off                        None  \n",
       "..                ...                         ...  \n",
       "95    ₹346₹99965% off                        None  \n",
       "96  ₹798₹1,49746% off                        None  \n",
       "97    ₹449₹99955% off                        None  \n",
       "98    ₹379₹99862% off                        None  \n",
       "99    ₹419₹99958% off                        None  \n",
       "\n",
       "[100 rows x 4 columns]"
      ]
     },
     "execution_count": 343,
     "metadata": {},
     "output_type": "execute_result"
    }
   ],
   "source": [
    "Sneakers_df"
   ]
  },
  {
   "cell_type": "code",
   "execution_count": 353,
   "metadata": {},
   "outputs": [],
   "source": [
    "Sneakers_df['price'] = Sneakers_df[2].str.split('₹').str.get(1)"
   ]
  },
  {
   "cell_type": "code",
   "execution_count": 355,
   "metadata": {},
   "outputs": [],
   "source": [
    "Sneakers_df['discount'] = Sneakers_df[2].str.split('₹').str.get(2)"
   ]
  },
  {
   "cell_type": "code",
   "execution_count": 543,
   "metadata": {},
   "outputs": [],
   "source": [
    "Sneakers_df.drop([2,3],axis=1,inplace=True)"
   ]
  },
  {
   "cell_type": "code",
   "execution_count": 367,
   "metadata": {},
   "outputs": [],
   "source": [
    "#renaming columns\n",
    "Sneakers_df.rename(columns={0:'BRAND',1:'PRODUCT DESCRIPTION'},inplace=True)"
   ]
  },
  {
   "cell_type": "code",
   "execution_count": 368,
   "metadata": {},
   "outputs": [],
   "source": [
    "#FINAL data frame"
   ]
  },
  {
   "cell_type": "code",
   "execution_count": 544,
   "metadata": {},
   "outputs": [
    {
     "data": {
      "text/html": [
       "<div>\n",
       "<style scoped>\n",
       "    .dataframe tbody tr th:only-of-type {\n",
       "        vertical-align: middle;\n",
       "    }\n",
       "\n",
       "    .dataframe tbody tr th {\n",
       "        vertical-align: top;\n",
       "    }\n",
       "\n",
       "    .dataframe thead th {\n",
       "        text-align: right;\n",
       "    }\n",
       "</style>\n",
       "<table border=\"1\" class=\"dataframe\">\n",
       "  <thead>\n",
       "    <tr style=\"text-align: right;\">\n",
       "      <th></th>\n",
       "      <th>BRAND</th>\n",
       "      <th>PRODUCT DESCRIPTION</th>\n",
       "      <th>price</th>\n",
       "      <th>discount</th>\n",
       "    </tr>\n",
       "  </thead>\n",
       "  <tbody>\n",
       "    <tr>\n",
       "      <th>0</th>\n",
       "      <td>Fzzirok</td>\n",
       "      <td>Premium quality Sneakers For Men</td>\n",
       "      <td>399</td>\n",
       "      <td>99960% off</td>\n",
       "    </tr>\n",
       "    <tr>\n",
       "      <th>1</th>\n",
       "      <td>PROVOGUE</td>\n",
       "      <td>Sneakers For Men</td>\n",
       "      <td>649</td>\n",
       "      <td>1,99967% off</td>\n",
       "    </tr>\n",
       "    <tr>\n",
       "      <th>2</th>\n",
       "      <td>Chevit</td>\n",
       "      <td>Perfect &amp; Affordable Combo Pack of 02 Pairs Sn...</td>\n",
       "      <td>499</td>\n",
       "      <td>1,79872% off</td>\n",
       "    </tr>\n",
       "    <tr>\n",
       "      <th>3</th>\n",
       "      <td>Chevit</td>\n",
       "      <td>Combo Pack of 4 Casual Sneakers With Sneakers ...</td>\n",
       "      <td>474</td>\n",
       "      <td>1,99676% off</td>\n",
       "    </tr>\n",
       "    <tr>\n",
       "      <th>4</th>\n",
       "      <td>Robbie jones</td>\n",
       "      <td>Casual Sneakers Shoes For Men Sneakers For Men</td>\n",
       "      <td>379</td>\n",
       "      <td>99962% off</td>\n",
       "    </tr>\n",
       "    <tr>\n",
       "      <th>...</th>\n",
       "      <td>...</td>\n",
       "      <td>...</td>\n",
       "      <td>...</td>\n",
       "      <td>...</td>\n",
       "    </tr>\n",
       "    <tr>\n",
       "      <th>95</th>\n",
       "      <td>ASTEROID</td>\n",
       "      <td>Feather Print New Spring Season White Shoes Me...</td>\n",
       "      <td>346</td>\n",
       "      <td>99965% off</td>\n",
       "    </tr>\n",
       "    <tr>\n",
       "      <th>96</th>\n",
       "      <td>Extoes</td>\n",
       "      <td>Modern Trendy Shoes Combo pack of 4 Sneakers F...</td>\n",
       "      <td>798</td>\n",
       "      <td>1,49746% off</td>\n",
       "    </tr>\n",
       "    <tr>\n",
       "      <th>97</th>\n",
       "      <td>Wika</td>\n",
       "      <td>Sneakers For Men</td>\n",
       "      <td>449</td>\n",
       "      <td>99955% off</td>\n",
       "    </tr>\n",
       "    <tr>\n",
       "      <th>98</th>\n",
       "      <td>Axter</td>\n",
       "      <td>Combo Pack of 2 Casual Loafer Sneakers Shoes S...</td>\n",
       "      <td>379</td>\n",
       "      <td>99862% off</td>\n",
       "    </tr>\n",
       "    <tr>\n",
       "      <th>99</th>\n",
       "      <td>oxpeo</td>\n",
       "      <td>Colourblocked Trending Multicolor Ultralight c...</td>\n",
       "      <td>419</td>\n",
       "      <td>99958% off</td>\n",
       "    </tr>\n",
       "  </tbody>\n",
       "</table>\n",
       "<p>100 rows × 4 columns</p>\n",
       "</div>"
      ],
      "text/plain": [
       "           BRAND                                PRODUCT DESCRIPTION price  \\\n",
       "0        Fzzirok                   Premium quality Sneakers For Men   399   \n",
       "1       PROVOGUE                                   Sneakers For Men   649   \n",
       "2         Chevit  Perfect & Affordable Combo Pack of 02 Pairs Sn...   499   \n",
       "3         Chevit  Combo Pack of 4 Casual Sneakers With Sneakers ...   474   \n",
       "4   Robbie jones     Casual Sneakers Shoes For Men Sneakers For Men   379   \n",
       "..           ...                                                ...   ...   \n",
       "95      ASTEROID  Feather Print New Spring Season White Shoes Me...   346   \n",
       "96        Extoes  Modern Trendy Shoes Combo pack of 4 Sneakers F...   798   \n",
       "97          Wika                                   Sneakers For Men   449   \n",
       "98         Axter  Combo Pack of 2 Casual Loafer Sneakers Shoes S...   379   \n",
       "99         oxpeo  Colourblocked Trending Multicolor Ultralight c...   419   \n",
       "\n",
       "        discount  \n",
       "0     99960% off  \n",
       "1   1,99967% off  \n",
       "2   1,79872% off  \n",
       "3   1,99676% off  \n",
       "4     99962% off  \n",
       "..           ...  \n",
       "95    99965% off  \n",
       "96  1,49746% off  \n",
       "97    99955% off  \n",
       "98    99862% off  \n",
       "99    99958% off  \n",
       "\n",
       "[100 rows x 4 columns]"
      ]
     },
     "execution_count": 544,
     "metadata": {},
     "output_type": "execute_result"
    }
   ],
   "source": [
    "Sneakers_df"
   ]
  },
  {
   "cell_type": "code",
   "execution_count": 371,
   "metadata": {},
   "outputs": [],
   "source": [
    "#CLOSING DRIVER\n",
    "\n",
    "driver.close()"
   ]
  },
  {
   "cell_type": "markdown",
   "metadata": {},
   "source": [
    "# TASK 9"
   ]
  },
  {
   "cell_type": "code",
   "execution_count": 421,
   "metadata": {},
   "outputs": [],
   "source": [
    "#working\n",
    "#creating driver object\n",
    "\n",
    "driver=webdriver.Chrome(r\"C:/chromedriver.exe\")\n"
   ]
  },
  {
   "cell_type": "code",
   "execution_count": 422,
   "metadata": {},
   "outputs": [],
   "source": [
    "driver.get(\"https://www.myntra.com/shoes\")"
   ]
  },
  {
   "cell_type": "code",
   "execution_count": null,
   "metadata": {},
   "outputs": [],
   "source": [
    "#choosing price range checkbox.\n",
    "driver.find_element_by_xpath(\".//*[contains(text(),'Rs. 6649to Rs. 13099')]\").click()\n",
    "\n"
   ]
  },
  {
   "cell_type": "code",
   "execution_count": null,
   "metadata": {},
   "outputs": [],
   "source": [
    "#choosing black color check box\n",
    "\n",
    "driver.find_element_by_xpath(\"//label[@data-count='789']\").click()"
   ]
  },
  {
   "cell_type": "code",
   "execution_count": 428,
   "metadata": {},
   "outputs": [],
   "source": [
    "url='https://www.myntra.com/shoes?f=Color%3ABlack_36454f&plaEnabled=false&rf=Price%3A6567.0_13045.0_6567.0%20TO%2013045.0%2C6657.0_13105.0_6657.0%20TO%2013105.0'"
   ]
  },
  {
   "cell_type": "code",
   "execution_count": 429,
   "metadata": {},
   "outputs": [],
   "source": [
    "driver.get(url)"
   ]
  },
  {
   "cell_type": "code",
   "execution_count": 430,
   "metadata": {},
   "outputs": [],
   "source": [
    "brand=driver.find_elements_by_xpath(\"//h3[@class='product-brand']\")"
   ]
  },
  {
   "cell_type": "code",
   "execution_count": 431,
   "metadata": {},
   "outputs": [
    {
     "data": {
      "text/plain": [
       "50"
      ]
     },
     "execution_count": 431,
     "metadata": {},
     "output_type": "execute_result"
    }
   ],
   "source": [
    "len(brand)"
   ]
  },
  {
   "cell_type": "code",
   "execution_count": 432,
   "metadata": {},
   "outputs": [],
   "source": [
    "descr=driver.find_elements_by_xpath(\"//h4[@class='product-product']\")"
   ]
  },
  {
   "cell_type": "code",
   "execution_count": 433,
   "metadata": {},
   "outputs": [],
   "source": [
    "price=driver.find_elements_by_xpath(\"//div[@class='product-price']\")"
   ]
  },
  {
   "cell_type": "code",
   "execution_count": 434,
   "metadata": {},
   "outputs": [
    {
     "data": {
      "text/plain": [
       "'Puma'"
      ]
     },
     "execution_count": 434,
     "metadata": {},
     "output_type": "execute_result"
    }
   ],
   "source": [
    "brand[0].text"
   ]
  },
  {
   "cell_type": "code",
   "execution_count": 435,
   "metadata": {},
   "outputs": [],
   "source": [
    "for i in range(50):\n",
    "    brand[i]=brand[i].text\n",
    "    descr[i]=descr[i].text\n",
    "    price[i]=price[i].text"
   ]
  },
  {
   "cell_type": "code",
   "execution_count": 436,
   "metadata": {},
   "outputs": [],
   "source": [
    "#NAvigating to next page by clicking next button\n",
    "next_btn=driver.find_element_by_xpath(\"//li[@class='pagination-next']\")\n",
    "if next_btn.text=='Next':\n",
    "            next_btn.click()\n",
    "\n"
   ]
  },
  {
   "cell_type": "code",
   "execution_count": 437,
   "metadata": {},
   "outputs": [],
   "source": [
    "brand_rest=driver.find_elements_by_xpath(\"//h3[@class='product-brand']\")\n",
    "descr_rest=driver.find_elements_by_xpath(\"//h4[@class='product-product']\")\n",
    "prices=driver.find_elements_by_xpath(\"//div[@class='product-price']\")"
   ]
  },
  {
   "cell_type": "code",
   "execution_count": 438,
   "metadata": {},
   "outputs": [
    {
     "data": {
      "text/plain": [
       "'Clarks'"
      ]
     },
     "execution_count": 438,
     "metadata": {},
     "output_type": "execute_result"
    }
   ],
   "source": [
    "brand_rest[0].text"
   ]
  },
  {
   "cell_type": "code",
   "execution_count": 439,
   "metadata": {},
   "outputs": [
    {
     "data": {
      "text/plain": [
       "50"
      ]
     },
     "execution_count": 439,
     "metadata": {},
     "output_type": "execute_result"
    }
   ],
   "source": [
    "len(brand_rest)"
   ]
  },
  {
   "cell_type": "code",
   "execution_count": 440,
   "metadata": {},
   "outputs": [],
   "source": [
    "for i in range(50):\n",
    "    brand_rest[i]=brand_rest[i].text\n",
    "    descr_rest[i]=descr_rest[i].text\n",
    "    prices[i]=prices[i].text"
   ]
  },
  {
   "cell_type": "code",
   "execution_count": 441,
   "metadata": {},
   "outputs": [],
   "source": [
    "#empty lists to store all 100 records.\n",
    "brands=brand+brand_rest\n",
    "shortDesc=descr+descr_rest\n",
    "ShoePrice=price+prices"
   ]
  },
  {
   "cell_type": "code",
   "execution_count": 442,
   "metadata": {},
   "outputs": [],
   "source": [
    "MyntraShoes_df=pd.DataFrame({\n",
    "    'BRAND':brands,\n",
    "    'SHORT SHOE DESCRIPTION':shortDesc,\n",
    "    'PRICE OF SHOE':ShoePrice\n",
    "})"
   ]
  },
  {
   "cell_type": "code",
   "execution_count": 443,
   "metadata": {},
   "outputs": [
    {
     "data": {
      "text/html": [
       "<div>\n",
       "<style scoped>\n",
       "    .dataframe tbody tr th:only-of-type {\n",
       "        vertical-align: middle;\n",
       "    }\n",
       "\n",
       "    .dataframe tbody tr th {\n",
       "        vertical-align: top;\n",
       "    }\n",
       "\n",
       "    .dataframe thead th {\n",
       "        text-align: right;\n",
       "    }\n",
       "</style>\n",
       "<table border=\"1\" class=\"dataframe\">\n",
       "  <thead>\n",
       "    <tr style=\"text-align: right;\">\n",
       "      <th></th>\n",
       "      <th>BRAND</th>\n",
       "      <th>SHORT SHOE DESCRIPTION</th>\n",
       "      <th>PRICE OF SHOE</th>\n",
       "    </tr>\n",
       "  </thead>\n",
       "  <tbody>\n",
       "    <tr>\n",
       "      <th>0</th>\n",
       "      <td>Puma</td>\n",
       "      <td>Men Fuse Training Sports Shoes</td>\n",
       "      <td>Rs. 7999</td>\n",
       "    </tr>\n",
       "    <tr>\n",
       "      <th>1</th>\n",
       "      <td>Nike</td>\n",
       "      <td>Men REACT MILER Running Shoes</td>\n",
       "      <td>Rs. 9345Rs. 10995(15% OFF)</td>\n",
       "    </tr>\n",
       "    <tr>\n",
       "      <th>2</th>\n",
       "      <td>Nike</td>\n",
       "      <td>Women Running Shoes</td>\n",
       "      <td>Rs. 7796Rs. 11995(35% OFF)</td>\n",
       "    </tr>\n",
       "    <tr>\n",
       "      <th>3</th>\n",
       "      <td>Nike</td>\n",
       "      <td>Men AIR ZOOM Running Shoes</td>\n",
       "      <td>Rs. 11470Rs. 13495(15% OFF)</td>\n",
       "    </tr>\n",
       "    <tr>\n",
       "      <th>4</th>\n",
       "      <td>PUMA Motorsport</td>\n",
       "      <td>Unisex Mercedes Running Shoes</td>\n",
       "      <td>Rs. 7999</td>\n",
       "    </tr>\n",
       "    <tr>\n",
       "      <th>...</th>\n",
       "      <td>...</td>\n",
       "      <td>...</td>\n",
       "      <td>...</td>\n",
       "    </tr>\n",
       "    <tr>\n",
       "      <th>95</th>\n",
       "      <td>Puma</td>\n",
       "      <td>Men IGNITE Dual Running Shoes</td>\n",
       "      <td>Rs. 6999</td>\n",
       "    </tr>\n",
       "    <tr>\n",
       "      <th>96</th>\n",
       "      <td>Puma</td>\n",
       "      <td>Men IGNITE Ronin Unrest</td>\n",
       "      <td>Rs. 6999</td>\n",
       "    </tr>\n",
       "    <tr>\n",
       "      <th>97</th>\n",
       "      <td>Geox</td>\n",
       "      <td>Women Leather Pumps</td>\n",
       "      <td>Rs. 9999</td>\n",
       "    </tr>\n",
       "    <tr>\n",
       "      <th>98</th>\n",
       "      <td>Hush Puppies</td>\n",
       "      <td>Men Leather Derbys</td>\n",
       "      <td>Rs. 7999</td>\n",
       "    </tr>\n",
       "    <tr>\n",
       "      <th>99</th>\n",
       "      <td>Ruosh</td>\n",
       "      <td>Men Solid Leather Formal Derbys</td>\n",
       "      <td>Rs. 8990</td>\n",
       "    </tr>\n",
       "  </tbody>\n",
       "</table>\n",
       "<p>100 rows × 3 columns</p>\n",
       "</div>"
      ],
      "text/plain": [
       "              BRAND           SHORT SHOE DESCRIPTION  \\\n",
       "0              Puma   Men Fuse Training Sports Shoes   \n",
       "1              Nike    Men REACT MILER Running Shoes   \n",
       "2              Nike              Women Running Shoes   \n",
       "3              Nike       Men AIR ZOOM Running Shoes   \n",
       "4   PUMA Motorsport    Unisex Mercedes Running Shoes   \n",
       "..              ...                              ...   \n",
       "95             Puma    Men IGNITE Dual Running Shoes   \n",
       "96             Puma          Men IGNITE Ronin Unrest   \n",
       "97             Geox              Women Leather Pumps   \n",
       "98     Hush Puppies               Men Leather Derbys   \n",
       "99            Ruosh  Men Solid Leather Formal Derbys   \n",
       "\n",
       "                  PRICE OF SHOE  \n",
       "0                      Rs. 7999  \n",
       "1    Rs. 9345Rs. 10995(15% OFF)  \n",
       "2    Rs. 7796Rs. 11995(35% OFF)  \n",
       "3   Rs. 11470Rs. 13495(15% OFF)  \n",
       "4                      Rs. 7999  \n",
       "..                          ...  \n",
       "95                     Rs. 6999  \n",
       "96                     Rs. 6999  \n",
       "97                     Rs. 9999  \n",
       "98                     Rs. 7999  \n",
       "99                     Rs. 8990  \n",
       "\n",
       "[100 rows x 3 columns]"
      ]
     },
     "execution_count": 443,
     "metadata": {},
     "output_type": "execute_result"
    }
   ],
   "source": [
    "MyntraShoes_df"
   ]
  },
  {
   "cell_type": "code",
   "execution_count": 444,
   "metadata": {},
   "outputs": [],
   "source": [
    "#closing driver.\n",
    "driver.close()"
   ]
  },
  {
   "cell_type": "markdown",
   "metadata": {},
   "source": [
    "# TASK 10"
   ]
  },
  {
   "cell_type": "code",
   "execution_count": 445,
   "metadata": {},
   "outputs": [],
   "source": [
    "#working\n",
    "#creating driver object\n",
    "\n",
    "driver=webdriver.Chrome(r\"C:/chromedriver.exe\")\n"
   ]
  },
  {
   "cell_type": "code",
   "execution_count": 446,
   "metadata": {},
   "outputs": [],
   "source": [
    "driver.get(\"https://www.amazon.in/\")"
   ]
  },
  {
   "cell_type": "code",
   "execution_count": 449,
   "metadata": {},
   "outputs": [],
   "source": [
    "#Searching for laptop\n",
    "Search=driver.find_element_by_xpath(\"//input[@id='twotabsearchtextbox']\")\n",
    "Search.send_keys(\"Laptop\")"
   ]
  },
  {
   "cell_type": "code",
   "execution_count": 450,
   "metadata": {},
   "outputs": [],
   "source": [
    "#clicking search button through code.\n",
    "search_btn=driver.find_element_by_xpath(\"//div[@class='nav-search-submit nav-sprite']\")\n",
    "search_btn.click()\n"
   ]
  },
  {
   "cell_type": "code",
   "execution_count": 451,
   "metadata": {},
   "outputs": [],
   "source": [
    "#choosing intel icore 7 and intel icore9 range checkbox.\n",
    "driver.find_element_by_xpath(\".//*[contains(text(),'Intel Core i7')]\").click()\n",
    "\n"
   ]
  },
  {
   "cell_type": "code",
   "execution_count": 452,
   "metadata": {},
   "outputs": [],
   "source": [
    "driver.find_element_by_xpath(\".//*[contains(text(),'Intel Core i9')]\").click()"
   ]
  },
  {
   "cell_type": "code",
   "execution_count": 453,
   "metadata": {},
   "outputs": [],
   "source": [
    "url='https://www.amazon.in/s?k=Laptop&i=computers&rh=n%3A1375424031%2Cp_n_feature_thirteen_browse-bin%3A12598163031%7C16757432031&dc&qid=1617287422&rnid=12598141031&ref=sr_nr_p_n_feature_thirteen_browse-bin_17'"
   ]
  },
  {
   "cell_type": "code",
   "execution_count": 454,
   "metadata": {},
   "outputs": [],
   "source": [
    "driver.get(url)"
   ]
  },
  {
   "cell_type": "code",
   "execution_count": 455,
   "metadata": {},
   "outputs": [],
   "source": [
    "title=driver.find_elements_by_xpath(\"//span[@class='a-size-medium a-color-base a-text-normal']\")"
   ]
  },
  {
   "cell_type": "code",
   "execution_count": 456,
   "metadata": {},
   "outputs": [
    {
     "data": {
      "text/plain": [
       "25"
      ]
     },
     "execution_count": 456,
     "metadata": {},
     "output_type": "execute_result"
    }
   ],
   "source": [
    "len(title)"
   ]
  },
  {
   "cell_type": "code",
   "execution_count": 458,
   "metadata": {},
   "outputs": [
    {
     "data": {
      "text/plain": [
       "'ASUS ROG G703GI-E5148T 17.3-inch FHD 144Hz/3ms Gaming Laptop (8th Gen Intel Core i9-8950HK/64GB/2TB SSHD + 1.5TB NVMe SSD/Windows 10/GTX 1080 8GB Graphics/4.70 Kg), Aluminum'"
      ]
     },
     "execution_count": 458,
     "metadata": {},
     "output_type": "execute_result"
    }
   ],
   "source": [
    "title[1].text"
   ]
  },
  {
   "cell_type": "code",
   "execution_count": 501,
   "metadata": {},
   "outputs": [],
   "source": [
    "titles=[]"
   ]
  },
  {
   "cell_type": "code",
   "execution_count": 502,
   "metadata": {},
   "outputs": [],
   "source": [
    "for i in range(1,11):\n",
    "    titles.append(title[i].text)"
   ]
  },
  {
   "cell_type": "code",
   "execution_count": 495,
   "metadata": {},
   "outputs": [],
   "source": [
    "ratings=driver.find_elements_by_xpath(\"//div[@class='a-row a-size-small']\")"
   ]
  },
  {
   "cell_type": "code",
   "execution_count": 496,
   "metadata": {},
   "outputs": [
    {
     "data": {
      "text/plain": [
       "18"
      ]
     },
     "execution_count": 496,
     "metadata": {},
     "output_type": "execute_result"
    }
   ],
   "source": [
    "len(ratings)"
   ]
  },
  {
   "cell_type": "code",
   "execution_count": 497,
   "metadata": {},
   "outputs": [
    {
     "data": {
      "text/plain": [
       "'27'"
      ]
     },
     "execution_count": 497,
     "metadata": {},
     "output_type": "execute_result"
    }
   ],
   "source": [
    "ratings[0].text"
   ]
  },
  {
   "cell_type": "code",
   "execution_count": 503,
   "metadata": {},
   "outputs": [],
   "source": [
    "rating=[]"
   ]
  },
  {
   "cell_type": "code",
   "execution_count": 504,
   "metadata": {},
   "outputs": [],
   "source": [
    "for i in range(10):\n",
    "    rating.append(ratings[i].text)"
   ]
  },
  {
   "cell_type": "code",
   "execution_count": 486,
   "metadata": {},
   "outputs": [],
   "source": [
    "price=driver.find_elements_by_xpath(\"//span[@class='a-price-whole']\")"
   ]
  },
  {
   "cell_type": "code",
   "execution_count": 487,
   "metadata": {},
   "outputs": [
    {
     "data": {
      "text/plain": [
       "25"
      ]
     },
     "execution_count": 487,
     "metadata": {},
     "output_type": "execute_result"
    }
   ],
   "source": [
    "len(price)"
   ]
  },
  {
   "cell_type": "code",
   "execution_count": 498,
   "metadata": {},
   "outputs": [
    {
     "data": {
      "text/plain": [
       "'5,22,077'"
      ]
     },
     "execution_count": 498,
     "metadata": {},
     "output_type": "execute_result"
    }
   ],
   "source": [
    "price[1].text"
   ]
  },
  {
   "cell_type": "code",
   "execution_count": 512,
   "metadata": {},
   "outputs": [],
   "source": [
    "prices_l=[]"
   ]
  },
  {
   "cell_type": "code",
   "execution_count": 513,
   "metadata": {},
   "outputs": [],
   "source": [
    "for i in range(1,11):\n",
    "    prices_l.append(price[i].text)"
   ]
  },
  {
   "cell_type": "code",
   "execution_count": 507,
   "metadata": {},
   "outputs": [
    {
     "data": {
      "text/plain": [
       "['27', '14', '3', '3', '588', '101', '54', '312', '1', '38']"
      ]
     },
     "execution_count": 507,
     "metadata": {},
     "output_type": "execute_result"
    }
   ],
   "source": [
    "rating"
   ]
  },
  {
   "cell_type": "code",
   "execution_count": 514,
   "metadata": {},
   "outputs": [
    {
     "data": {
      "text/plain": [
       "['5,22,077',\n",
       " '1,98,590',\n",
       " '75,993',\n",
       " '2,77,390',\n",
       " '53,974',\n",
       " '78,990',\n",
       " '1,35,490',\n",
       " '66,740',\n",
       " '75,990',\n",
       " '45,990']"
      ]
     },
     "execution_count": 514,
     "metadata": {},
     "output_type": "execute_result"
    }
   ],
   "source": [
    "prices_l"
   ]
  },
  {
   "cell_type": "code",
   "execution_count": 509,
   "metadata": {},
   "outputs": [
    {
     "data": {
      "text/plain": [
       "['ASUS ROG G703GI-E5148T 17.3-inch FHD 144Hz/3ms Gaming Laptop (8th Gen Intel Core i9-8950HK/64GB/2TB SSHD + 1.5TB NVMe SSD/Windows 10/GTX 1080 8GB Graphics/4.70 Kg), Aluminum',\n",
       " 'Dell Alienware m15(R3) 15.6-inch FHD Gaming Laptop (10th Gen Core i7-10750H/16GB/512GB SSD/Windows 10 Home & MS Office/6GB NVIDIA GTX 1660 Ti Graphics), Lunar Light',\n",
       " 'HP 14 Thin & Light 14-inch FHD Laptop (11th Gen Intel i7-1165G7/8GB/512GB SSD/Windows 10/MS Office 2019/Alexa Built-in/Pale Gold/1.47 kg), 14s-dr2007TU',\n",
       " 'ASUS ZenBook Pro Duo Intel Core i9-10980HK 10th Gen 15.6\" 4K UHD OLED Touchscreen Laptop (32GB RAM/1TB NVMe SSD/Windows 10/6GB NVIDIA GeForce RTX 2060 Graphics/Celestial Blue/2.5 Kg), UX581LV-H2035T',\n",
       " 'Mi Notebook Horizon Edition 14 Intel Core i5-10210U 10th Gen Thin and Light Laptop(8GB/512GB SSD/Windows 10/Nvidia MX350 2GB Graphics/Grey/1.35Kg), XMA1904-AR+Webcam',\n",
       " 'Lenovo Legion Y540 Intel Core i7 9th Gen 15.6 inch FHD Gaming Laptop (8GB/1TB HDD + 256 GB SSD/Windows 10/4GB NVIDIA GTX 1650/Black/2.3Kg), 81SY00SUIN',\n",
       " 'Lenovo Legion 5Pi 10th Gen Intel Core i7 15.6\" FHD Gaming Laptop (16GB/1TB SSD/Windows 10/MS Office 2019/144 Hz/NVIDIA RTX 2060 6GB GDDR6/with M300 RGB Gaming Mouse/Iron Grey/2.3Kg), 82AW005SIN',\n",
       " 'Dell Inspiron 5370 13.3-inch FHD Laptop (Core i7- 8550 U/8GB/256GB/Windows 10 with Ms Office Home & Student 2016/2GB Graphics)',\n",
       " '(Renewed) Dell Inspiron 5501 15.6 Inch FHD Laptop (10th Gen i7-1065G7/8 GB/512 SSD/2 GB Nvidia Graphics/Win 10 + MS Office H&S 2019/Silver) D560213WIN9S',\n",
       " '(Renewed) DELL Latitude E7270 12.5-inch Touch Screen Laptop (6th Gen Intel Core i7/8GB/512GB SSD/Windows 10/Intel HD Graphics 520), Black']"
      ]
     },
     "execution_count": 509,
     "metadata": {},
     "output_type": "execute_result"
    }
   ],
   "source": [
    "titles"
   ]
  },
  {
   "cell_type": "code",
   "execution_count": 515,
   "metadata": {},
   "outputs": [],
   "source": [
    "Laptop_df=pd.DataFrame({'Title':titles,\n",
    "                        'Price':prices_l,\n",
    "                        'Ratings':rating\n",
    "    \n",
    "})"
   ]
  },
  {
   "cell_type": "code",
   "execution_count": 516,
   "metadata": {},
   "outputs": [
    {
     "data": {
      "text/html": [
       "<div>\n",
       "<style scoped>\n",
       "    .dataframe tbody tr th:only-of-type {\n",
       "        vertical-align: middle;\n",
       "    }\n",
       "\n",
       "    .dataframe tbody tr th {\n",
       "        vertical-align: top;\n",
       "    }\n",
       "\n",
       "    .dataframe thead th {\n",
       "        text-align: right;\n",
       "    }\n",
       "</style>\n",
       "<table border=\"1\" class=\"dataframe\">\n",
       "  <thead>\n",
       "    <tr style=\"text-align: right;\">\n",
       "      <th></th>\n",
       "      <th>Title</th>\n",
       "      <th>Price</th>\n",
       "      <th>Ratings</th>\n",
       "    </tr>\n",
       "  </thead>\n",
       "  <tbody>\n",
       "    <tr>\n",
       "      <th>0</th>\n",
       "      <td>ASUS ROG G703GI-E5148T 17.3-inch FHD 144Hz/3ms...</td>\n",
       "      <td>5,22,077</td>\n",
       "      <td>27</td>\n",
       "    </tr>\n",
       "    <tr>\n",
       "      <th>1</th>\n",
       "      <td>Dell Alienware m15(R3) 15.6-inch FHD Gaming La...</td>\n",
       "      <td>1,98,590</td>\n",
       "      <td>14</td>\n",
       "    </tr>\n",
       "    <tr>\n",
       "      <th>2</th>\n",
       "      <td>HP 14 Thin &amp; Light 14-inch FHD Laptop (11th Ge...</td>\n",
       "      <td>75,993</td>\n",
       "      <td>3</td>\n",
       "    </tr>\n",
       "    <tr>\n",
       "      <th>3</th>\n",
       "      <td>ASUS ZenBook Pro Duo Intel Core i9-10980HK 10t...</td>\n",
       "      <td>2,77,390</td>\n",
       "      <td>3</td>\n",
       "    </tr>\n",
       "    <tr>\n",
       "      <th>4</th>\n",
       "      <td>Mi Notebook Horizon Edition 14 Intel Core i5-1...</td>\n",
       "      <td>53,974</td>\n",
       "      <td>588</td>\n",
       "    </tr>\n",
       "    <tr>\n",
       "      <th>5</th>\n",
       "      <td>Lenovo Legion Y540 Intel Core i7 9th Gen 15.6 ...</td>\n",
       "      <td>78,990</td>\n",
       "      <td>101</td>\n",
       "    </tr>\n",
       "    <tr>\n",
       "      <th>6</th>\n",
       "      <td>Lenovo Legion 5Pi 10th Gen Intel Core i7 15.6\"...</td>\n",
       "      <td>1,35,490</td>\n",
       "      <td>54</td>\n",
       "    </tr>\n",
       "    <tr>\n",
       "      <th>7</th>\n",
       "      <td>Dell Inspiron 5370 13.3-inch FHD Laptop (Core ...</td>\n",
       "      <td>66,740</td>\n",
       "      <td>312</td>\n",
       "    </tr>\n",
       "    <tr>\n",
       "      <th>8</th>\n",
       "      <td>(Renewed) Dell Inspiron 5501 15.6 Inch FHD Lap...</td>\n",
       "      <td>75,990</td>\n",
       "      <td>1</td>\n",
       "    </tr>\n",
       "    <tr>\n",
       "      <th>9</th>\n",
       "      <td>(Renewed) DELL Latitude E7270 12.5-inch Touch ...</td>\n",
       "      <td>45,990</td>\n",
       "      <td>38</td>\n",
       "    </tr>\n",
       "  </tbody>\n",
       "</table>\n",
       "</div>"
      ],
      "text/plain": [
       "                                               Title     Price Ratings\n",
       "0  ASUS ROG G703GI-E5148T 17.3-inch FHD 144Hz/3ms...  5,22,077      27\n",
       "1  Dell Alienware m15(R3) 15.6-inch FHD Gaming La...  1,98,590      14\n",
       "2  HP 14 Thin & Light 14-inch FHD Laptop (11th Ge...    75,993       3\n",
       "3  ASUS ZenBook Pro Duo Intel Core i9-10980HK 10t...  2,77,390       3\n",
       "4  Mi Notebook Horizon Edition 14 Intel Core i5-1...    53,974     588\n",
       "5  Lenovo Legion Y540 Intel Core i7 9th Gen 15.6 ...    78,990     101\n",
       "6  Lenovo Legion 5Pi 10th Gen Intel Core i7 15.6\"...  1,35,490      54\n",
       "7  Dell Inspiron 5370 13.3-inch FHD Laptop (Core ...    66,740     312\n",
       "8  (Renewed) Dell Inspiron 5501 15.6 Inch FHD Lap...    75,990       1\n",
       "9  (Renewed) DELL Latitude E7270 12.5-inch Touch ...    45,990      38"
      ]
     },
     "execution_count": 516,
     "metadata": {},
     "output_type": "execute_result"
    }
   ],
   "source": [
    "#final data frame\n",
    "Laptop_df"
   ]
  },
  {
   "cell_type": "code",
   "execution_count": 518,
   "metadata": {},
   "outputs": [],
   "source": [
    "driver.close()"
   ]
  },
  {
   "cell_type": "code",
   "execution_count": null,
   "metadata": {},
   "outputs": [],
   "source": []
  }
 ],
 "metadata": {
  "kernelspec": {
   "display_name": "Python 3",
   "language": "python",
   "name": "python3"
  },
  "language_info": {
   "codemirror_mode": {
    "name": "ipython",
    "version": 3
   },
   "file_extension": ".py",
   "mimetype": "text/x-python",
   "name": "python",
   "nbconvert_exporter": "python",
   "pygments_lexer": "ipython3",
   "version": "3.7.6"
  }
 },
 "nbformat": 4,
 "nbformat_minor": 4
}
